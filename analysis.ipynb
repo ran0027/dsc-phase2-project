{
 "cells": [
  {
   "cell_type": "code",
   "execution_count": 155,
   "metadata": {},
   "outputs": [],
   "source": [
    "# Import necessary libraries\n",
    "\n",
    "import pandas as pd\n",
    "import numpy as np\n",
    "import matplotlib.pyplot as plt\n",
    "import seaborn as sns"
   ]
  },
  {
   "cell_type": "code",
   "execution_count": 156,
   "metadata": {},
   "outputs": [
    {
     "data": {
      "text/html": [
       "<div>\n",
       "<style scoped>\n",
       "    .dataframe tbody tr th:only-of-type {\n",
       "        vertical-align: middle;\n",
       "    }\n",
       "\n",
       "    .dataframe tbody tr th {\n",
       "        vertical-align: top;\n",
       "    }\n",
       "\n",
       "    .dataframe thead th {\n",
       "        text-align: right;\n",
       "    }\n",
       "</style>\n",
       "<table border=\"1\" class=\"dataframe\">\n",
       "  <thead>\n",
       "    <tr style=\"text-align: right;\">\n",
       "      <th></th>\n",
       "      <th>id</th>\n",
       "      <th>date</th>\n",
       "      <th>price</th>\n",
       "      <th>bedrooms</th>\n",
       "      <th>bathrooms</th>\n",
       "      <th>sqft_living</th>\n",
       "      <th>sqft_lot</th>\n",
       "      <th>floors</th>\n",
       "      <th>waterfront</th>\n",
       "      <th>view</th>\n",
       "      <th>...</th>\n",
       "      <th>grade</th>\n",
       "      <th>sqft_above</th>\n",
       "      <th>sqft_basement</th>\n",
       "      <th>yr_built</th>\n",
       "      <th>yr_renovated</th>\n",
       "      <th>zipcode</th>\n",
       "      <th>lat</th>\n",
       "      <th>long</th>\n",
       "      <th>sqft_living15</th>\n",
       "      <th>sqft_lot15</th>\n",
       "    </tr>\n",
       "  </thead>\n",
       "  <tbody>\n",
       "    <tr>\n",
       "      <th>0</th>\n",
       "      <td>7129300520</td>\n",
       "      <td>10/13/2014</td>\n",
       "      <td>221900.0</td>\n",
       "      <td>3</td>\n",
       "      <td>1.00</td>\n",
       "      <td>1180</td>\n",
       "      <td>5650</td>\n",
       "      <td>1.0</td>\n",
       "      <td>NaN</td>\n",
       "      <td>NONE</td>\n",
       "      <td>...</td>\n",
       "      <td>7 Average</td>\n",
       "      <td>1180</td>\n",
       "      <td>0.0</td>\n",
       "      <td>1955</td>\n",
       "      <td>0.0</td>\n",
       "      <td>98178</td>\n",
       "      <td>47.5112</td>\n",
       "      <td>-122.257</td>\n",
       "      <td>1340</td>\n",
       "      <td>5650</td>\n",
       "    </tr>\n",
       "    <tr>\n",
       "      <th>1</th>\n",
       "      <td>6414100192</td>\n",
       "      <td>12/9/2014</td>\n",
       "      <td>538000.0</td>\n",
       "      <td>3</td>\n",
       "      <td>2.25</td>\n",
       "      <td>2570</td>\n",
       "      <td>7242</td>\n",
       "      <td>2.0</td>\n",
       "      <td>NO</td>\n",
       "      <td>NONE</td>\n",
       "      <td>...</td>\n",
       "      <td>7 Average</td>\n",
       "      <td>2170</td>\n",
       "      <td>400.0</td>\n",
       "      <td>1951</td>\n",
       "      <td>1991.0</td>\n",
       "      <td>98125</td>\n",
       "      <td>47.7210</td>\n",
       "      <td>-122.319</td>\n",
       "      <td>1690</td>\n",
       "      <td>7639</td>\n",
       "    </tr>\n",
       "    <tr>\n",
       "      <th>2</th>\n",
       "      <td>5631500400</td>\n",
       "      <td>2/25/2015</td>\n",
       "      <td>180000.0</td>\n",
       "      <td>2</td>\n",
       "      <td>1.00</td>\n",
       "      <td>770</td>\n",
       "      <td>10000</td>\n",
       "      <td>1.0</td>\n",
       "      <td>NO</td>\n",
       "      <td>NONE</td>\n",
       "      <td>...</td>\n",
       "      <td>6 Low Average</td>\n",
       "      <td>770</td>\n",
       "      <td>0.0</td>\n",
       "      <td>1933</td>\n",
       "      <td>NaN</td>\n",
       "      <td>98028</td>\n",
       "      <td>47.7379</td>\n",
       "      <td>-122.233</td>\n",
       "      <td>2720</td>\n",
       "      <td>8062</td>\n",
       "    </tr>\n",
       "    <tr>\n",
       "      <th>3</th>\n",
       "      <td>2487200875</td>\n",
       "      <td>12/9/2014</td>\n",
       "      <td>604000.0</td>\n",
       "      <td>4</td>\n",
       "      <td>3.00</td>\n",
       "      <td>1960</td>\n",
       "      <td>5000</td>\n",
       "      <td>1.0</td>\n",
       "      <td>NO</td>\n",
       "      <td>NONE</td>\n",
       "      <td>...</td>\n",
       "      <td>7 Average</td>\n",
       "      <td>1050</td>\n",
       "      <td>910.0</td>\n",
       "      <td>1965</td>\n",
       "      <td>0.0</td>\n",
       "      <td>98136</td>\n",
       "      <td>47.5208</td>\n",
       "      <td>-122.393</td>\n",
       "      <td>1360</td>\n",
       "      <td>5000</td>\n",
       "    </tr>\n",
       "    <tr>\n",
       "      <th>4</th>\n",
       "      <td>1954400510</td>\n",
       "      <td>2/18/2015</td>\n",
       "      <td>510000.0</td>\n",
       "      <td>3</td>\n",
       "      <td>2.00</td>\n",
       "      <td>1680</td>\n",
       "      <td>8080</td>\n",
       "      <td>1.0</td>\n",
       "      <td>NO</td>\n",
       "      <td>NONE</td>\n",
       "      <td>...</td>\n",
       "      <td>8 Good</td>\n",
       "      <td>1680</td>\n",
       "      <td>0.0</td>\n",
       "      <td>1987</td>\n",
       "      <td>0.0</td>\n",
       "      <td>98074</td>\n",
       "      <td>47.6168</td>\n",
       "      <td>-122.045</td>\n",
       "      <td>1800</td>\n",
       "      <td>7503</td>\n",
       "    </tr>\n",
       "  </tbody>\n",
       "</table>\n",
       "<p>5 rows × 21 columns</p>\n",
       "</div>"
      ],
      "text/plain": [
       "           id        date     price  bedrooms  bathrooms  sqft_living  \\\n",
       "0  7129300520  10/13/2014  221900.0         3       1.00         1180   \n",
       "1  6414100192   12/9/2014  538000.0         3       2.25         2570   \n",
       "2  5631500400   2/25/2015  180000.0         2       1.00          770   \n",
       "3  2487200875   12/9/2014  604000.0         4       3.00         1960   \n",
       "4  1954400510   2/18/2015  510000.0         3       2.00         1680   \n",
       "\n",
       "   sqft_lot  floors waterfront  view  ...          grade sqft_above  \\\n",
       "0      5650     1.0        NaN  NONE  ...      7 Average       1180   \n",
       "1      7242     2.0         NO  NONE  ...      7 Average       2170   \n",
       "2     10000     1.0         NO  NONE  ...  6 Low Average        770   \n",
       "3      5000     1.0         NO  NONE  ...      7 Average       1050   \n",
       "4      8080     1.0         NO  NONE  ...         8 Good       1680   \n",
       "\n",
       "   sqft_basement yr_built  yr_renovated  zipcode      lat     long  \\\n",
       "0            0.0     1955           0.0    98178  47.5112 -122.257   \n",
       "1          400.0     1951        1991.0    98125  47.7210 -122.319   \n",
       "2            0.0     1933           NaN    98028  47.7379 -122.233   \n",
       "3          910.0     1965           0.0    98136  47.5208 -122.393   \n",
       "4            0.0     1987           0.0    98074  47.6168 -122.045   \n",
       "\n",
       "   sqft_living15  sqft_lot15  \n",
       "0           1340        5650  \n",
       "1           1690        7639  \n",
       "2           2720        8062  \n",
       "3           1360        5000  \n",
       "4           1800        7503  \n",
       "\n",
       "[5 rows x 21 columns]"
      ]
     },
     "execution_count": 156,
     "metadata": {},
     "output_type": "execute_result"
    }
   ],
   "source": [
    "# Import king county data from Data folder\n",
    "\n",
    "data = pd.read_csv('Data/kc_house_data.csv')\n",
    "\n",
    "data.head()"
   ]
  },
  {
   "cell_type": "code",
   "execution_count": 32,
   "metadata": {},
   "outputs": [
    {
     "name": "stdout",
     "output_type": "stream",
     "text": [
      "<class 'pandas.core.frame.DataFrame'>\n",
      "RangeIndex: 21597 entries, 0 to 21596\n",
      "Data columns (total 21 columns):\n",
      " #   Column         Non-Null Count  Dtype  \n",
      "---  ------         --------------  -----  \n",
      " 0   id             21597 non-null  int64  \n",
      " 1   date           21597 non-null  object \n",
      " 2   price          21597 non-null  float64\n",
      " 3   bedrooms       21597 non-null  int64  \n",
      " 4   bathrooms      21597 non-null  float64\n",
      " 5   sqft_living    21597 non-null  int64  \n",
      " 6   sqft_lot       21597 non-null  int64  \n",
      " 7   floors         21597 non-null  float64\n",
      " 8   waterfront     19221 non-null  object \n",
      " 9   view           21534 non-null  object \n",
      " 10  condition      21597 non-null  object \n",
      " 11  grade          21597 non-null  object \n",
      " 12  sqft_above     21597 non-null  int64  \n",
      " 13  sqft_basement  21597 non-null  object \n",
      " 14  yr_built       21597 non-null  int64  \n",
      " 15  yr_renovated   17755 non-null  float64\n",
      " 16  zipcode        21597 non-null  int64  \n",
      " 17  lat            21597 non-null  float64\n",
      " 18  long           21597 non-null  float64\n",
      " 19  sqft_living15  21597 non-null  int64  \n",
      " 20  sqft_lot15     21597 non-null  int64  \n",
      "dtypes: float64(6), int64(9), object(6)\n",
      "memory usage: 3.5+ MB\n"
     ]
    }
   ],
   "source": [
    "data.info()"
   ]
  },
  {
   "cell_type": "code",
   "execution_count": 157,
   "metadata": {},
   "outputs": [
    {
     "name": "stderr",
     "output_type": "stream",
     "text": [
      "/Users/user/opt/anaconda3/envs/learn-env/lib/python3.8/site-packages/seaborn/_decorators.py:36: FutureWarning: Pass the following variable as a keyword arg: x. From version 0.12, the only valid positional argument will be `data`, and passing other arguments without an explicit keyword will result in an error or misinterpretation.\n",
      "  warnings.warn(\n"
     ]
    },
    {
     "data": {
      "image/png": "[encoded data removed]",
      "text/plain": [
       "<Figure size 432x288 with 1 Axes>"
      ]
     },
     "metadata": {
      "needs_background": "light"
     },
     "output_type": "display_data"
    }
   ],
   "source": [
    "# The price variable looks skewed base on histogram; check distribution\n",
    "\n",
    "fig, ax = plt.subplots()\n",
    "\n",
    "sns.boxplot(data['price'], ax=ax);"
   ]
  },
  {
   "cell_type": "markdown",
   "metadata": {},
   "source": [
    "For our purposes, we do not need to consider houses with prices greater than $1 million."
   ]
  },
  {
   "cell_type": "code",
   "execution_count": 158,
   "metadata": {},
   "outputs": [],
   "source": [
    "# drop records with price greater than $1000000\n",
    "\n",
    "data = data.loc[ data['price'] <= 1000000 ]"
   ]
  },
  {
   "cell_type": "code",
   "execution_count": 33,
   "metadata": {
    "scrolled": true
   },
   "outputs": [
    {
     "ename": "TypeError",
     "evalue": "unhashable type: 'list'",
     "output_type": "error",
     "traceback": [
      "\u001b[0;31m---------------------------------------------------------------------------\u001b[0m",
      "\u001b[0;31mTypeError\u001b[0m                                 Traceback (most recent call last)",
      "\u001b[0;32m<ipython-input-33-e8293c31f1c6>\u001b[0m in \u001b[0;36m<module>\u001b[0;34m\u001b[0m\n\u001b[0;32m----> 1\u001b[0;31m to_school_district = {['Tahoma']: 'Tahoma',\\\n\u001b[0m\u001b[1;32m      2\u001b[0m \u001b[0;34m[\u001b[0m\u001b[0;34m'Ballard'\u001b[0m\u001b[0;34m,\u001b[0m \u001b[0;34m'Nathan Hale'\u001b[0m\u001b[0;34m,\u001b[0m \u001b[0;34m'Ingraham'\u001b[0m\u001b[0;34m,\u001b[0m \u001b[0;34m'Lincoln'\u001b[0m\u001b[0;34m,\u001b[0m \u001b[0;34m'Chief Sealth'\u001b[0m\u001b[0;34m,\u001b[0m\u001b[0;34m'Cascade Parent Partnership Program'\u001b[0m\u001b[0;34m,\u001b[0m \u001b[0;34m'Garfield'\u001b[0m\u001b[0;34m,\u001b[0m \u001b[0;34m'Rainier Beach'\u001b[0m\u001b[0;34m,\u001b[0m \u001b[0;34m'Roosevelt'\u001b[0m\u001b[0;34m,\u001b[0m \u001b[0;34m'Franklin'\u001b[0m\u001b[0;34m,\u001b[0m \u001b[0;34m'Cleveland'\u001b[0m\u001b[0;34m,\u001b[0m \u001b[0;34m'West Seattle'\u001b[0m\u001b[0;34m]\u001b[0m\u001b[0;34m:\u001b[0m \u001b[0;34m'Seattle'\u001b[0m\u001b[0;34m,\u001b[0m\u001b[0;31m\\\u001b[0m\u001b[0;34m\u001b[0m\u001b[0;34m\u001b[0m\u001b[0m\n\u001b[1;32m      3\u001b[0m \u001b[0;34m[\u001b[0m\u001b[0;34m'Bothell'\u001b[0m\u001b[0;34m,\u001b[0m \u001b[0;34m'Woodinville'\u001b[0m\u001b[0;34m,\u001b[0m \u001b[0;34m'Inglemoor'\u001b[0m\u001b[0;34m,\u001b[0m \u001b[0;34m'North Creek'\u001b[0m\u001b[0;34m]\u001b[0m\u001b[0;34m:\u001b[0m \u001b[0;34m'Northshore'\u001b[0m\u001b[0;34m,\u001b[0m\u001b[0;31m\\\u001b[0m\u001b[0;34m\u001b[0m\u001b[0;34m\u001b[0m\u001b[0m\n\u001b[1;32m      4\u001b[0m \u001b[0;34m[\u001b[0m\u001b[0;34m'Kent-Meridian'\u001b[0m\u001b[0;34m,\u001b[0m \u001b[0;34m'Kentlake'\u001b[0m\u001b[0;34m,\u001b[0m \u001b[0;34m'Kentwood'\u001b[0m\u001b[0;34m,\u001b[0m \u001b[0;34m'Kentridge'\u001b[0m\u001b[0;34m]\u001b[0m\u001b[0;34m:\u001b[0m \u001b[0;34m'Kent'\u001b[0m\u001b[0;34m,\u001b[0m\u001b[0;31m\\\u001b[0m\u001b[0;34m\u001b[0m\u001b[0;34m\u001b[0m\u001b[0m\n\u001b[1;32m      5\u001b[0m \u001b[0;34m[\u001b[0m\u001b[0;34m'Juanita'\u001b[0m\u001b[0;34m,\u001b[0m \u001b[0;34m'Eastlake'\u001b[0m\u001b[0;34m,\u001b[0m \u001b[0;34m'Emerson'\u001b[0m\u001b[0;34m,\u001b[0m \u001b[0;34m'International Community School'\u001b[0m\u001b[0;34m,\u001b[0m \u001b[0;34m'Lake Washington'\u001b[0m\u001b[0;34m,\u001b[0m \u001b[0;34m'Redmond'\u001b[0m\u001b[0;34m]\u001b[0m\u001b[0;34m:\u001b[0m \u001b[0;34m'Lake Washington'\u001b[0m\u001b[0;34m,\u001b[0m\u001b[0;31m\\\u001b[0m\u001b[0;34m\u001b[0m\u001b[0;34m\u001b[0m\u001b[0m\n",
      "\u001b[0;31mTypeError\u001b[0m: unhashable type: 'list'"
     ]
    }
   ],
   "source": [
    "'''Initial research on school districts'''\n",
    "\n",
    "# to_school_district = {['Tahoma']: 'Tahoma',\\\n",
    "# ['Ballard', 'Nathan Hale', 'Ingraham', 'Lincoln', 'Chief Sealth','Cascade Parent Partnership Program', 'Garfield', 'Rainier Beach', 'Roosevelt', 'Franklin', 'Cleveland', 'West Seattle']: 'Seattle',\\\n",
    "# ['Bothell', 'Woodinville', 'Inglemoor', 'North Creek']: 'Northshore',\\\n",
    "# ['Kent-Meridian', 'Kentlake', 'Kentwood', 'Kentridge']: 'Kent',\\\n",
    "# ['Juanita', 'Eastlake', 'Emerson', 'International Community School', 'Lake Washington', 'Redmond']: 'Lake Washington',\\\n",
    "# ['Decatur', 'Federal Way', 'Thomas Jefferson', 'Todd Beamer']: 'Federal Way',\\\n",
    "# ['Lindbergh', 'Hazen', 'Renton', 'Tally']: 'Renton',\\\n",
    "# ['Liberty', 'Issaquah', 'Skyline', 'Echo Glen']: 'Issaquah', ['Shorecrest', 'Shorewood']: 'Shoreline',\\\n",
    "# ['West Auburn', 'Auburn Riverside', 'Auburn Mountainview', 'Auburn']: 'Auburn',\\\n",
    "# ['Mount Si', 'Two Rivers']: 'Snoqualmie Valley',\\\n",
    "# ['Highline', 'Evergreen', 'Mount Rainier', 'Tyee']: 'Highline', ['Enumclaw']: 'Enumclaw',\\\n",
    "# ['Cedarcrest']: 'Riverview', ['Mercer Island']: 'Mercer Island',\\\n",
    "# ['Bellevue', 'Interlake', 'Newport', 'Sammamish']: 'Bellevue',\\\n",
    "# ['Foster']: 'Tukwila', ['Vashon Island']: 'Vashon Island'}"
   ]
  },
  {
   "cell_type": "markdown",
   "metadata": {},
   "source": [
    "## end zipcode to school district"
   ]
  },
  {
   "cell_type": "code",
   "execution_count": 159,
   "metadata": {},
   "outputs": [
    {
     "data": {
      "image/png": "[encoded data removed]",
      "text/plain": [
       "<Figure size 432x288 with 1 Axes>"
      ]
     },
     "metadata": {
      "needs_background": "light"
     },
     "output_type": "display_data"
    }
   ],
   "source": [
    "# re-check distribution of price\n",
    "\n",
    "fig, ax = plt.subplots()\n",
    "\n",
    "sns.histplot(data['price']);"
   ]
  },
  {
   "cell_type": "markdown",
   "metadata": {},
   "source": [
    "Price is still skewed, but much less so."
   ]
  },
  {
   "cell_type": "code",
   "execution_count": 160,
   "metadata": {},
   "outputs": [
    {
     "data": {
      "text/plain": [
       "id                  0\n",
       "date                0\n",
       "price               0\n",
       "bedrooms            0\n",
       "bathrooms           0\n",
       "sqft_living         0\n",
       "sqft_lot            0\n",
       "floors              0\n",
       "waterfront       2227\n",
       "view               57\n",
       "condition           0\n",
       "grade               0\n",
       "sqft_above          0\n",
       "sqft_basement       0\n",
       "yr_built            0\n",
       "yr_renovated     3577\n",
       "zipcode             0\n",
       "lat                 0\n",
       "long                0\n",
       "sqft_living15       0\n",
       "sqft_lot15          0\n",
       "dtype: int64"
      ]
     },
     "execution_count": 160,
     "metadata": {},
     "output_type": "execute_result"
    }
   ],
   "source": [
    "# check for missing values\n",
    "\n",
    "data.isnull().sum()"
   ]
  },
  {
   "cell_type": "markdown",
   "metadata": {},
   "source": [
    "#### Waterfront"
   ]
  },
  {
   "cell_type": "code",
   "execution_count": 33,
   "metadata": {},
   "outputs": [
    {
     "data": {
      "text/plain": [
       "NO     17862\n",
       "YES       50\n",
       "Name: waterfront, dtype: int64"
      ]
     },
     "execution_count": 33,
     "metadata": {},
     "output_type": "execute_result"
    }
   ],
   "source": [
    "data.waterfront.value_counts()"
   ]
  },
  {
   "cell_type": "markdown",
   "metadata": {},
   "source": [
    "#### View"
   ]
  },
  {
   "cell_type": "code",
   "execution_count": 34,
   "metadata": {},
   "outputs": [
    {
     "data": {
      "text/plain": [
       "NONE         18611\n",
       "AVERAGE        763\n",
       "GOOD           319\n",
       "FAIR           260\n",
       "EXCELLENT      129\n",
       "Name: view, dtype: int64"
      ]
     },
     "execution_count": 34,
     "metadata": {},
     "output_type": "execute_result"
    }
   ],
   "source": [
    "data.view.value_counts()"
   ]
  },
  {
   "cell_type": "markdown",
   "metadata": {},
   "source": [
    "#### Fill Null Values: Waterfront & View"
   ]
  },
  {
   "cell_type": "code",
   "execution_count": 161,
   "metadata": {},
   "outputs": [],
   "source": [
    "# assume no waterfront, no view, if not specified\n",
    "\n",
    "data.waterfront.fillna('NO', inplace=True)\n",
    "data.view.fillna('NONE', inplace=True)"
   ]
  },
  {
   "cell_type": "markdown",
   "metadata": {},
   "source": [
    "#### Yr_renovated"
   ]
  },
  {
   "cell_type": "code",
   "execution_count": 9,
   "metadata": {},
   "outputs": [
    {
     "data": {
      "text/plain": [
       "0.0       15962\n",
       "2014.0       63\n",
       "2013.0       27\n",
       "2000.0       25\n",
       "2007.0       23\n",
       "          ...  \n",
       "1956.0        1\n",
       "1948.0        1\n",
       "1971.0        1\n",
       "1953.0        1\n",
       "1934.0        1\n",
       "Name: yr_renovated, Length: 70, dtype: int64"
      ]
     },
     "execution_count": 9,
     "metadata": {},
     "output_type": "execute_result"
    }
   ],
   "source": [
    "data.yr_renovated.value_counts()"
   ]
  },
  {
   "cell_type": "markdown",
   "metadata": {},
   "source": [
    "#### Fill null values, engineer new feature and drop yr_renovated"
   ]
  },
  {
   "cell_type": "code",
   "execution_count": 162,
   "metadata": {},
   "outputs": [],
   "source": [
    "# engineer new feature, renovated, then drop yr_renovated\n",
    "\n",
    "# assume not renovated if not specified\n",
    "data.yr_renovated.fillna(0, inplace=True)\n",
    "\n",
    "# create renovated flag, set to true\n",
    "data['renovated'] = 1\n",
    "# set renovated flag to false for houses with yr_renovated value of 0\n",
    "data.loc[ data['yr_renovated'] == 0, 'renovated'] = 0\n",
    "\n",
    "# drop yr_renovated\n",
    "data.drop('yr_renovated', axis=1, inplace=True)"
   ]
  },
  {
   "cell_type": "code",
   "execution_count": 6,
   "metadata": {},
   "outputs": [
    {
     "name": "stdout",
     "output_type": "stream",
     "text": [
      "<class 'pandas.core.frame.DataFrame'>\n",
      "Int64Index: 20139 entries, 0 to 21596\n",
      "Data columns (total 21 columns):\n",
      " #   Column         Non-Null Count  Dtype  \n",
      "---  ------         --------------  -----  \n",
      " 0   id             20139 non-null  int64  \n",
      " 1   date           20139 non-null  object \n",
      " 2   price          20139 non-null  float64\n",
      " 3   bedrooms       20139 non-null  int64  \n",
      " 4   bathrooms      20139 non-null  float64\n",
      " 5   sqft_living    20139 non-null  int64  \n",
      " 6   sqft_lot       20139 non-null  int64  \n",
      " 7   floors         20139 non-null  float64\n",
      " 8   waterfront     20139 non-null  object \n",
      " 9   view           20139 non-null  object \n",
      " 10  condition      20139 non-null  object \n",
      " 11  grade          20139 non-null  object \n",
      " 12  sqft_above     20139 non-null  int64  \n",
      " 13  sqft_basement  20139 non-null  object \n",
      " 14  yr_built       20139 non-null  int64  \n",
      " 15  zipcode        20139 non-null  int64  \n",
      " 16  lat            20139 non-null  float64\n",
      " 17  long           20139 non-null  float64\n",
      " 18  sqft_living15  20139 non-null  int64  \n",
      " 19  sqft_lot15     20139 non-null  int64  \n",
      " 20  renovated      20139 non-null  int64  \n",
      "dtypes: float64(5), int64(10), object(6)\n",
      "memory usage: 3.4+ MB\n"
     ]
    }
   ],
   "source": [
    "# check data types\n",
    "\n",
    "data.info()"
   ]
  },
  {
   "cell_type": "code",
   "execution_count": 12,
   "metadata": {},
   "outputs": [
    {
     "data": {
      "text/plain": [
       "0    10/13/2014\n",
       "1     12/9/2014\n",
       "2     2/25/2015\n",
       "3     12/9/2014\n",
       "4     2/18/2015\n",
       "Name: date, dtype: object"
      ]
     },
     "execution_count": 12,
     "metadata": {},
     "output_type": "execute_result"
    }
   ],
   "source": [
    "data.date.head()"
   ]
  },
  {
   "cell_type": "code",
   "execution_count": 163,
   "metadata": {},
   "outputs": [],
   "source": [
    "# create month feature\n",
    "data['mo_sold'] = data.date.map(lambda x: x.split('/')[0])\n",
    "\n",
    "# drop data\n",
    "data.drop('date', axis=1, inplace=True)"
   ]
  },
  {
   "cell_type": "code",
   "execution_count": 164,
   "metadata": {},
   "outputs": [],
   "source": [
    "# make the month a number\n",
    "\n",
    "data.loc[:, 'mo_sold'] = data['mo_sold'].astype(int)"
   ]
  },
  {
   "cell_type": "code",
   "execution_count": 77,
   "metadata": {},
   "outputs": [
    {
     "data": {
      "text/plain": [
       "NO     20089\n",
       "YES       50\n",
       "Name: waterfront, dtype: int64"
      ]
     },
     "execution_count": 77,
     "metadata": {},
     "output_type": "execute_result"
    }
   ],
   "source": [
    "data.waterfront.value_counts()"
   ]
  },
  {
   "cell_type": "code",
   "execution_count": 165,
   "metadata": {},
   "outputs": [],
   "source": [
    "# make waterfront feature 0 or 1 instead of no or yes\n",
    "\n",
    "data.waterfront.replace({'NO': 0, 'YES': 1}, inplace=True)"
   ]
  },
  {
   "cell_type": "code",
   "execution_count": 79,
   "metadata": {},
   "outputs": [
    {
     "data": {
      "text/plain": [
       "NONE         18668\n",
       "AVERAGE        763\n",
       "GOOD           319\n",
       "FAIR           260\n",
       "EXCELLENT      129\n",
       "Name: view, dtype: int64"
      ]
     },
     "execution_count": 79,
     "metadata": {},
     "output_type": "execute_result"
    }
   ],
   "source": [
    "data.view.value_counts()"
   ]
  },
  {
   "cell_type": "code",
   "execution_count": 166,
   "metadata": {},
   "outputs": [],
   "source": [
    "# make view feature 0, 1, 2, 3 or 4 instead of none, fair, average, good, excellent\n",
    "\n",
    "data.view.replace({'NONE': 0, 'FAIR': 1, 'AVERAGE': 2, 'GOOD': 3, 'EXCELLENT': 4}, inplace=True)"
   ]
  },
  {
   "cell_type": "code",
   "execution_count": 18,
   "metadata": {},
   "outputs": [
    {
     "data": {
      "text/plain": [
       "Average      13076\n",
       "Good          5347\n",
       "Very Good     1520\n",
       "Fair           168\n",
       "Poor            28\n",
       "Name: condition, dtype: int64"
      ]
     },
     "execution_count": 18,
     "metadata": {},
     "output_type": "execute_result"
    }
   ],
   "source": [
    "data.condition.value_counts()"
   ]
  },
  {
   "cell_type": "code",
   "execution_count": 167,
   "metadata": {},
   "outputs": [],
   "source": [
    "# make condition feature 0, 1, 2, 3 or 4 instead of poor, fair, average, good, very good\n",
    "\n",
    "data.condition.replace({'Poor': 0, 'Fair': 1, 'Average': 2, 'Good': 3, 'Very Good': 4}, inplace=True)"
   ]
  },
  {
   "cell_type": "code",
   "execution_count": 168,
   "metadata": {},
   "outputs": [],
   "source": [
    "# replace grade description with the numerical grade at the beginning of the string, as an int\n",
    "\n",
    "data['grade'] = data.grade.map(lambda x: x.split(' ')[0]).astype(int)"
   ]
  },
  {
   "cell_type": "code",
   "execution_count": 21,
   "metadata": {},
   "outputs": [
    {
     "data": {
      "text/plain": [
       "0.0       12282\n",
       "?           424\n",
       "600.0       211\n",
       "500.0       206\n",
       "700.0       193\n",
       "          ...  \n",
       "2196.0        1\n",
       "2000.0        1\n",
       "704.0         1\n",
       "1840.0        1\n",
       "20.0          1\n",
       "Name: sqft_basement, Length: 266, dtype: int64"
      ]
     },
     "execution_count": 21,
     "metadata": {},
     "output_type": "execute_result"
    }
   ],
   "source": [
    "data.sqft_basement.value_counts()"
   ]
  },
  {
   "cell_type": "code",
   "execution_count": 169,
   "metadata": {},
   "outputs": [],
   "source": [
    "# replace ?s with 0 in sqft_basement, assume no basement if not specified\n",
    "data.sqft_basement.replace('?', '0.0', inplace=True)\n",
    "\n",
    "# cast to float\n",
    "data['sqft_basement'] = data.sqft_basement.astype(float)\n",
    "\n",
    "# create new feature, basement flag\n",
    "data['basement'] = 1\n",
    "# set flag to 0 if sqft of basement is 0\n",
    "data.loc[ data['sqft_basement'] == 0, 'basement' ] = 0\n",
    "\n",
    "# drop sqft_basement (not enough data)\n",
    "data.drop('sqft_basement', axis=1, inplace=True)"
   ]
  },
  {
   "cell_type": "markdown",
   "metadata": {},
   "source": [
    "Create new feature, school district, based on zipcodes and research to link zipcodes to school districts via the high school listed for a house with that zipcode on Realtor.com."
   ]
  },
  {
   "cell_type": "code",
   "execution_count": 170,
   "metadata": {},
   "outputs": [],
   "source": [
    "zipcode_to_school =\\\n",
    "{98038: 'Tahoma', 98103: 'Ingraham', 98052: 'Woodinville', 98115: 'Nathan Hale', 98042: 'Kentwood', 98117: 'Ingraham'\\\n",
    ", 98034: 'Juanita', 98118: 'Rainier Beach', 98023: 'Decatur', 98133: 'Ingraham', 98058: 'Lindbergh', 98059: 'Liberty'\\\n",
    ", 98155: 'Shorecrest', 98074: 'Eastlake', 98056: 'Hazen', 98125: 'Nathan Hale', 98027: 'Issaquah', 98006: 'Issaquah',\\\n",
    "98053: 'Redmond', 98001: 'Todd Beamer', 98126: 'Chief Sealth', 98092: 'Auburn', 98033: 'Lake Washington',\\\n",
    "98106: 'Chief Sealth', 98075: 'Skyline', 98144: 'Franklin', 98029: 'Skyline', 98116: 'West Seattle', 98065:\\\n",
    "'Mount Si', 98146: 'Highline', 98003: 'Federal Way', 98028: 'Inglemoor', 98198: 'Mount Rainier', 98031: 'Kentridge',\\\n",
    "98168: 'Highline', 98122: 'Garfield', 98055: 'Lindbergh', 98008: 'Issaquah', 98107: 'Ballard', 98072: 'Woodinville',\\\n",
    "98178: 'Renton', 98030: 'Kent-Meridian', 98199: 'Ballard', 98136: 'Chief Sealth', 98166: 'Mount Rainier', 98022:\\\n",
    "'Enumclaw', 98177: 'Ingraham', 98045: 'Mount Si', 98002: 'Auburn', 98011: 'Bothell', 98019: 'Cedarcrest',\\\n",
    "98108: 'Franklin', 98077: 'Redmond', 98105: 'Roosevelt', 98112: 'Garfield', 98040: 'Mercer Island', 98119:\\\n",
    "'Cascade Parent Partnership Program', 98005: 'Bellevue', 98004: 'Bellevue', 98188: 'Foster', 98007: 'Interlake',\\\n",
    " 98032: 'Kent-Meridian', 98014: 'Cedarcrest', 98070: 'Vashon Island', 98010: 'Enumclaw', 98109:\\\n",
    "'Cascade Parent Partnership Program', 98102: 'Garfield', 98024: 'Mount Si', 98148: 'Mount Rainier', 98039: 'Bellevue'}"
   ]
  },
  {
   "cell_type": "code",
   "execution_count": 171,
   "metadata": {},
   "outputs": [],
   "source": [
    "# create high school column by copying zipcode column, then using replacement dictionary zipcode_to_school\n",
    "\n",
    "data['highschool'] = data['zipcode'].copy()\n",
    "\n",
    "data.highschool.replace(zipcode_to_school, inplace=True)"
   ]
  },
  {
   "cell_type": "code",
   "execution_count": 172,
   "metadata": {},
   "outputs": [],
   "source": [
    "# create school district column by copying high school column, and replacing one district at a time\n",
    "\n",
    "data['school_district'] = data['highschool'].copy()\n",
    "\n",
    "to_replace = ['Ballard', 'Nathan Hale', 'Ingraham', 'Lincoln', 'Chief Sealth', 'Cascade Parent Partnership Program']\n",
    "data.school_district.replace(to_replace, 'Seattle', inplace=True)\n",
    "\n",
    "to_replace = ['Garfield', 'Rainier Beach', 'Roosevelt', 'Franklin', 'Cleveland', 'West Seattle']\n",
    "data.school_district.replace(to_replace, 'Seattle', inplace=True)\n",
    "\n",
    "to_replace = ['Bothell', 'Woodinville', 'Inglemoor', 'North Creek']\n",
    "data.school_district.replace(to_replace, 'Northshore', inplace=True)\n",
    "\n",
    "to_replace = ['Kent-Meridian', 'Kentlake', 'Kentwood', 'Kentridge']\n",
    "data.school_district.replace(to_replace, 'Kent', inplace=True)\n",
    "\n",
    "to_replace = ['Juanita', 'Eastlake', 'Emerson', 'International Community School', 'Lake Washington', 'Redmond']\n",
    "data.school_district.replace(to_replace, 'Lake_Washington', inplace=True)\n",
    "\n",
    "to_replace = ['Decatur', 'Federal Way', 'Thomas Jefferson', 'Todd Beamer']\n",
    "data.school_district.replace(to_replace, 'Federal_Way', inplace=True)\n",
    "\n",
    "to_replace = ['Lindbergh', 'Hazen', 'Renton', 'Tally']\n",
    "data.school_district.replace(to_replace, 'Renton', inplace=True)\n",
    "\n",
    "to_replace = ['Liberty', 'Issaquah', 'Skyline', 'Echo Glen']\n",
    "data.school_district.replace(to_replace, 'Issaquah', inplace=True)\n",
    "\n",
    "to_replace = ['Shorecrest', 'Shorewood']\n",
    "data.school_district.replace(to_replace, 'Shoreline', inplace=True)\n",
    "\n",
    "to_replace = ['West Auburn', 'Auburn Riverside', 'Auburn Mountainview', 'Auburn']\n",
    "data.school_district.replace(to_replace, 'Auburn', inplace=True)\n",
    "\n",
    "to_replace = ['Mount Si', 'Two Rivers']\n",
    "data.school_district.replace(to_replace, 'Snoqualmie_Valley', inplace=True)\n",
    "\n",
    "to_replace = ['Highline', 'Evergreen', 'Mount Rainier', 'Tyee']\n",
    "data.school_district.replace(to_replace, 'Highline', inplace=True)\n",
    "\n",
    "to_replace = ['Cedarcrest']\n",
    "data.school_district.replace(to_replace, 'Riverview', inplace=True)\n",
    "\n",
    "to_replace = ['Bellevue', 'Interlake', 'Newport', 'Sammamish']\n",
    "data.school_district.replace(to_replace, 'Bellevue', inplace=True)\n",
    "\n",
    "to_replace = ['Foster']\n",
    "data.school_district.replace(to_replace, 'Tukwila', inplace=True)\n",
    "\n",
    "to_replace = ['Vashon Island']\n",
    "data.school_district.replace(to_replace, 'Vashon_Island', inplace=True)\n",
    "\n",
    "to_replace = ['Mercer Island']\n",
    "data.school_district.replace(to_replace, 'Mercer_Island', inplace=True)"
   ]
  },
  {
   "cell_type": "code",
   "execution_count": 173,
   "metadata": {},
   "outputs": [
    {
     "data": {
      "text/plain": [
       "Seattle              6439\n",
       "Issaquah             2103\n",
       "Lake_Washington      1832\n",
       "Renton               1383\n",
       "Northshore           1287\n",
       "Kent                 1201\n",
       "Federal_Way          1138\n",
       "Highline             1129\n",
       "Snoqualmie_Valley     587\n",
       "Tahoma                586\n",
       "Auburn                550\n",
       "Shoreline             440\n",
       "Bellevue              423\n",
       "Enumclaw              333\n",
       "Riverview             310\n",
       "Mercer_Island         147\n",
       "Tukwila               136\n",
       "Vashon_Island         115\n",
       "Name: school_district, dtype: int64"
      ]
     },
     "execution_count": 173,
     "metadata": {},
     "output_type": "execute_result"
    }
   ],
   "source": [
    "data['school_district'].value_counts()"
   ]
  },
  {
   "cell_type": "code",
   "execution_count": 89,
   "metadata": {},
   "outputs": [
    {
     "name": "stdout",
     "output_type": "stream",
     "text": [
      "<class 'pandas.core.frame.DataFrame'>\n",
      "Int64Index: 20139 entries, 0 to 21596\n",
      "Data columns (total 23 columns):\n",
      " #   Column           Non-Null Count  Dtype  \n",
      "---  ------           --------------  -----  \n",
      " 0   id               20139 non-null  int64  \n",
      " 1   price            20139 non-null  float64\n",
      " 2   bedrooms         20139 non-null  int64  \n",
      " 3   bathrooms        20139 non-null  float64\n",
      " 4   sqft_living      20139 non-null  int64  \n",
      " 5   sqft_lot         20139 non-null  int64  \n",
      " 6   floors           20139 non-null  float64\n",
      " 7   waterfront       20139 non-null  int64  \n",
      " 8   view             20139 non-null  int64  \n",
      " 9   condition        20139 non-null  int64  \n",
      " 10  grade            20139 non-null  int64  \n",
      " 11  sqft_above       20139 non-null  int64  \n",
      " 12  yr_built         20139 non-null  int64  \n",
      " 13  zipcode          20139 non-null  int64  \n",
      " 14  lat              20139 non-null  float64\n",
      " 15  long             20139 non-null  float64\n",
      " 16  sqft_living15    20139 non-null  int64  \n",
      " 17  sqft_lot15       20139 non-null  int64  \n",
      " 18  renovated        20139 non-null  int64  \n",
      " 19  mo_sold          20139 non-null  int64  \n",
      " 20  basement         20139 non-null  int64  \n",
      " 21  highschool       20139 non-null  object \n",
      " 22  school_district  20139 non-null  object \n",
      "dtypes: float64(5), int64(16), object(2)\n",
      "memory usage: 3.7+ MB\n"
     ]
    }
   ],
   "source": [
    "data.info()"
   ]
  },
  {
   "cell_type": "markdown",
   "metadata": {},
   "source": [
    "One Hot Encode school_district feature."
   ]
  },
  {
   "cell_type": "code",
   "execution_count": 174,
   "metadata": {},
   "outputs": [],
   "source": [
    "# one hot encode school_district\n",
    "\n",
    "from sklearn.preprocessing import OneHotEncoder\n",
    "\n",
    "zip_ohe = OneHotEncoder(handle_unknown='ignore', sparse=False)\n",
    "\n",
    "zip_ohe.fit(data[['school_district']])\n",
    "\n",
    "new_school_district_cols = zip_ohe.get_feature_names(input_features=['school_district'])\n",
    "\n",
    "data_ohe = pd.DataFrame(zip_ohe.fit_transform(data[['school_district']]), columns = new_school_district_cols,\\\n",
    "                          index = data.index)\n",
    "\n",
    "data = pd.concat([data.drop('school_district', axis=1), data_ohe], axis=1)"
   ]
  },
  {
   "cell_type": "code",
   "execution_count": 175,
   "metadata": {},
   "outputs": [
    {
     "data": {
      "text/plain": [
       "price                                1.000000\n",
       "grade                                0.617413\n",
       "sqft_living                          0.604188\n",
       "sqft_living15                        0.549455\n",
       "sqft_above                           0.515646\n",
       "lat                                  0.440495\n",
       "bathrooms                            0.439473\n",
       "bedrooms                             0.288019\n",
       "floors                               0.269781\n",
       "school_district_Federal_Way          0.227685\n",
       "school_district_Kent                 0.215956\n",
       "view                                 0.213743\n",
       "school_district_Issaquah             0.204040\n",
       "school_district_Lake_Washington      0.187414\n",
       "school_district_Highline             0.184158\n",
       "school_district_Bellevue             0.183002\n",
       "school_district_Renton               0.165708\n",
       "basement                             0.155946\n",
       "school_district_Seattle              0.153767\n",
       "school_district_Mercer_Island        0.151681\n",
       "school_district_Auburn               0.144513\n",
       "school_district_Northshore           0.106958\n",
       "sqft_lot                             0.094206\n",
       "school_district_Tahoma               0.092727\n",
       "sqft_lot15                           0.082217\n",
       "school_district_Enumclaw             0.078608\n",
       "long                                 0.078016\n",
       "school_district_Tukwila              0.075071\n",
       "renovated                            0.074216\n",
       "yr_built                             0.058111\n",
       "waterfront                           0.051719\n",
       "school_district_Shoreline            0.051653\n",
       "condition                            0.033648\n",
       "school_district_Riverview            0.028265\n",
       "zipcode                              0.019219\n",
       "id                                   0.017347\n",
       "mo_sold                              0.013270\n",
       "school_district_Snoqualmie_Valley    0.004924\n",
       "school_district_Vashon_Island        0.002385\n",
       "Name: price, dtype: float64"
      ]
     },
     "execution_count": 175,
     "metadata": {},
     "output_type": "execute_result"
    }
   ],
   "source": [
    "abs(data.corr()['price']).sort_values(ascending=False)"
   ]
  },
  {
   "cell_type": "markdown",
   "metadata": {},
   "source": [
    "Based on prior understanding of how homes are valued, and the correlations of the above features with price, I am going to create a baseline model using grade as a feature, then add one to three features at a time which are relatively highly correlated to the price of a home and note the effect on the R2 value of the model."
   ]
  },
  {
   "cell_type": "markdown",
   "metadata": {},
   "source": [
    "## Baseline Model"
   ]
  },
  {
   "cell_type": "code",
   "execution_count": 176,
   "metadata": {},
   "outputs": [],
   "source": [
    "'''Importing Necessary Libraries'''\n",
    "\n",
    "# import statsmodels libraries\n",
    "\n",
    "import statsmodels.api as sm\n",
    "from statsmodels.formula.api import ols\n",
    "\n",
    "# import library for train test split\n",
    "\n",
    "from sklearn.model_selection import train_test_split"
   ]
  },
  {
   "cell_type": "code",
   "execution_count": 177,
   "metadata": {},
   "outputs": [
    {
     "data": {
      "text/html": [
       "<div>\n",
       "<style scoped>\n",
       "    .dataframe tbody tr th:only-of-type {\n",
       "        vertical-align: middle;\n",
       "    }\n",
       "\n",
       "    .dataframe tbody tr th {\n",
       "        vertical-align: top;\n",
       "    }\n",
       "\n",
       "    .dataframe thead th {\n",
       "        text-align: right;\n",
       "    }\n",
       "</style>\n",
       "<table border=\"1\" class=\"dataframe\">\n",
       "  <thead>\n",
       "    <tr style=\"text-align: right;\">\n",
       "      <th></th>\n",
       "      <th>grade</th>\n",
       "      <th>price</th>\n",
       "    </tr>\n",
       "  </thead>\n",
       "  <tbody>\n",
       "    <tr>\n",
       "      <th>10182</th>\n",
       "      <td>7</td>\n",
       "      <td>260000.0</td>\n",
       "    </tr>\n",
       "    <tr>\n",
       "      <th>1722</th>\n",
       "      <td>7</td>\n",
       "      <td>350000.0</td>\n",
       "    </tr>\n",
       "    <tr>\n",
       "      <th>21559</th>\n",
       "      <td>8</td>\n",
       "      <td>399950.0</td>\n",
       "    </tr>\n",
       "    <tr>\n",
       "      <th>9145</th>\n",
       "      <td>8</td>\n",
       "      <td>898500.0</td>\n",
       "    </tr>\n",
       "    <tr>\n",
       "      <th>10325</th>\n",
       "      <td>8</td>\n",
       "      <td>750000.0</td>\n",
       "    </tr>\n",
       "  </tbody>\n",
       "</table>\n",
       "</div>"
      ],
      "text/plain": [
       "       grade     price\n",
       "10182      7  260000.0\n",
       "1722       7  350000.0\n",
       "21559      8  399950.0\n",
       "9145       8  898500.0\n",
       "10325      8  750000.0"
      ]
     },
     "execution_count": 177,
     "metadata": {},
     "output_type": "execute_result"
    }
   ],
   "source": [
    "# 70% / 30% train test split\n",
    "X_train, X_test, y_train, y_test = train_test_split(\n",
    "    data[['grade']], data[['price']], test_size=0.3, random_state=421)\n",
    "\n",
    "# concatenate X_train & y_train for statsmodels linear regression\n",
    "all_train = pd.concat([X_train, y_train], axis=1)\n",
    "\n",
    "# inspect all_train first five rows\n",
    "all_train.head()"
   ]
  },
  {
   "cell_type": "code",
   "execution_count": 178,
   "metadata": {},
   "outputs": [
    {
     "data": {
      "text/html": [
       "<table class=\"simpletable\">\n",
       "<caption>OLS Regression Results</caption>\n",
       "<tr>\n",
       "  <th>Dep. Variable:</th>          <td>price</td>      <th>  R-squared:         </th>  <td>   0.384</td>  \n",
       "</tr>\n",
       "<tr>\n",
       "  <th>Model:</th>                   <td>OLS</td>       <th>  Adj. R-squared:    </th>  <td>   0.384</td>  \n",
       "</tr>\n",
       "<tr>\n",
       "  <th>Method:</th>             <td>Least Squares</td>  <th>  F-statistic:       </th>  <td>   8776.</td>  \n",
       "</tr>\n",
       "<tr>\n",
       "  <th>Date:</th>             <td>Sat, 12 Nov 2022</td> <th>  Prob (F-statistic):</th>   <td>  0.00</td>   \n",
       "</tr>\n",
       "<tr>\n",
       "  <th>Time:</th>                 <td>09:38:32</td>     <th>  Log-Likelihood:    </th> <td>-1.8837e+05</td>\n",
       "</tr>\n",
       "<tr>\n",
       "  <th>No. Observations:</th>      <td> 14097</td>      <th>  AIC:               </th>  <td>3.767e+05</td> \n",
       "</tr>\n",
       "<tr>\n",
       "  <th>Df Residuals:</th>          <td> 14095</td>      <th>  BIC:               </th>  <td>3.768e+05</td> \n",
       "</tr>\n",
       "<tr>\n",
       "  <th>Df Model:</th>              <td>     1</td>      <th>                     </th>      <td> </td>     \n",
       "</tr>\n",
       "<tr>\n",
       "  <th>Covariance Type:</th>      <td>nonrobust</td>    <th>                     </th>      <td> </td>     \n",
       "</tr>\n",
       "</table>\n",
       "<table class=\"simpletable\">\n",
       "<tr>\n",
       "      <td></td>         <th>coef</th>     <th>std err</th>      <th>t</th>      <th>P>|t|</th>  <th>[0.025</th>    <th>0.975]</th>  \n",
       "</tr>\n",
       "<tr>\n",
       "  <th>Intercept</th> <td>-4.289e+05</td> <td> 9644.949</td> <td>  -44.468</td> <td> 0.000</td> <td>-4.48e+05</td> <td> -4.1e+05</td>\n",
       "</tr>\n",
       "<tr>\n",
       "  <th>grade</th>     <td> 1.193e+05</td> <td> 1273.739</td> <td>   93.681</td> <td> 0.000</td> <td> 1.17e+05</td> <td> 1.22e+05</td>\n",
       "</tr>\n",
       "</table>\n",
       "<table class=\"simpletable\">\n",
       "<tr>\n",
       "  <th>Omnibus:</th>       <td>622.577</td> <th>  Durbin-Watson:     </th> <td>   1.970</td> \n",
       "</tr>\n",
       "<tr>\n",
       "  <th>Prob(Omnibus):</th> <td> 0.000</td>  <th>  Jarque-Bera (JB):  </th> <td> 706.728</td> \n",
       "</tr>\n",
       "<tr>\n",
       "  <th>Skew:</th>          <td> 0.542</td>  <th>  Prob(JB):          </th> <td>3.43e-154</td>\n",
       "</tr>\n",
       "<tr>\n",
       "  <th>Kurtosis:</th>      <td> 3.161</td>  <th>  Cond. No.          </th> <td>    57.3</td> \n",
       "</tr>\n",
       "</table><br/><br/>Notes:<br/>[1] Standard Errors assume that the covariance matrix of the errors is correctly specified."
      ],
      "text/plain": [
       "<class 'statsmodels.iolib.summary.Summary'>\n",
       "\"\"\"\n",
       "                            OLS Regression Results                            \n",
       "==============================================================================\n",
       "Dep. Variable:                  price   R-squared:                       0.384\n",
       "Model:                            OLS   Adj. R-squared:                  0.384\n",
       "Method:                 Least Squares   F-statistic:                     8776.\n",
       "Date:                Sat, 12 Nov 2022   Prob (F-statistic):               0.00\n",
       "Time:                        09:38:32   Log-Likelihood:            -1.8837e+05\n",
       "No. Observations:               14097   AIC:                         3.767e+05\n",
       "Df Residuals:                   14095   BIC:                         3.768e+05\n",
       "Df Model:                           1                                         \n",
       "Covariance Type:            nonrobust                                         \n",
       "==============================================================================\n",
       "                 coef    std err          t      P>|t|      [0.025      0.975]\n",
       "------------------------------------------------------------------------------\n",
       "Intercept  -4.289e+05   9644.949    -44.468      0.000   -4.48e+05    -4.1e+05\n",
       "grade       1.193e+05   1273.739     93.681      0.000    1.17e+05    1.22e+05\n",
       "==============================================================================\n",
       "Omnibus:                      622.577   Durbin-Watson:                   1.970\n",
       "Prob(Omnibus):                  0.000   Jarque-Bera (JB):              706.728\n",
       "Skew:                           0.542   Prob(JB):                    3.43e-154\n",
       "Kurtosis:                       3.161   Cond. No.                         57.3\n",
       "==============================================================================\n",
       "\n",
       "Notes:\n",
       "[1] Standard Errors assume that the covariance matrix of the errors is correctly specified.\n",
       "\"\"\""
      ]
     },
     "execution_count": 178,
     "metadata": {},
     "output_type": "execute_result"
    }
   ],
   "source": [
    "# build formula\n",
    "formula = 'price ~ grade'\n",
    "\n",
    "# fit model using ordinary least squares\n",
    "model = ols(formula=formula, data=all_train).fit()\n",
    "\n",
    "# view model summary\n",
    "model.summary()"
   ]
  },
  {
   "cell_type": "markdown",
   "metadata": {},
   "source": [
    "My baseline model has an R2 value of 0.384, so the model already explains about 38.4% of the variance in home price.\n",
    "\n",
    "The intercept and coefficient of my baseline model suggest that a home with exceedingly poor grade construction (even less than the lowest level assigned by the county) is -\\\\$44800; you would have to pay someone to buy such a poorly constructed home. As the grade increases by one level, the price of the home should increase by about \\\\$120000."
   ]
  },
  {
   "cell_type": "code",
   "execution_count": 179,
   "metadata": {},
   "outputs": [
    {
     "data": {
      "image/png": "[encoded data removed]",
      "text/plain": [
       "<Figure size 1080x360 with 3 Axes>"
      ]
     },
     "metadata": {
      "needs_background": "light"
     },
     "output_type": "display_data"
    }
   ],
   "source": [
    "'''check assumptions'''\n",
    "\n",
    "# compute residuals for training data\n",
    "residuals = (y_train['price'] - model.predict(X_train)).values\n",
    "\n",
    "# check homoscedasticity, and normality of residuals\n",
    "fig, ax = plt.subplots(ncols=3, figsize=(15,5))\n",
    "\n",
    "ax[0].set(title='Residuals versus Price in Training Data', ylabel='Residuals', xlabel='Price')\n",
    "sns.scatterplot(x=y_train['price'], y=residuals, ax=ax[0])\n",
    "\n",
    "ax[1].set_title('Distribution of Residuals')\n",
    "sns.histplot(residuals, ax=ax[1])\n",
    "\n",
    "ax[2].set_title('Distribution of Residuals versus Normal Distribution')\n",
    "sm.qqplot(residuals, line='s', ax=ax[2])\n",
    "\n",
    "fig.tight_layout();"
   ]
  },
  {
   "cell_type": "markdown",
   "metadata": {},
   "source": [
    "The assumptions for linear regression are not perfectly met, as the residuals are not normally distributed -- the distribution of the residuals is positively skewed. It is possible that there are outliers in home price that are causing this skew."
   ]
  },
  {
   "cell_type": "code",
   "execution_count": 180,
   "metadata": {},
   "outputs": [
    {
     "data": {
      "image/png": "[encoded data removed]",
      "text/plain": [
       "<Figure size 432x288 with 1 Axes>"
      ]
     },
     "metadata": {
      "needs_background": "light"
     },
     "output_type": "display_data"
    }
   ],
   "source": [
    "sns.boxplot(x=data['price']);"
   ]
  },
  {
   "cell_type": "markdown",
   "metadata": {},
   "source": [
    "I am going to ignore the non-normality of the residuals for now, and try adding the next three most correlated features with price to my model."
   ]
  },
  {
   "cell_type": "code",
   "execution_count": 181,
   "metadata": {},
   "outputs": [
    {
     "data": {
      "text/html": [
       "<table class=\"simpletable\">\n",
       "<caption>OLS Regression Results</caption>\n",
       "<tr>\n",
       "  <th>Dep. Variable:</th>          <td>price</td>      <th>  R-squared:         </th>  <td>   0.456</td>  \n",
       "</tr>\n",
       "<tr>\n",
       "  <th>Model:</th>                   <td>OLS</td>       <th>  Adj. R-squared:    </th>  <td>   0.456</td>  \n",
       "</tr>\n",
       "<tr>\n",
       "  <th>Method:</th>             <td>Least Squares</td>  <th>  F-statistic:       </th>  <td>   2958.</td>  \n",
       "</tr>\n",
       "<tr>\n",
       "  <th>Date:</th>             <td>Sat, 12 Nov 2022</td> <th>  Prob (F-statistic):</th>   <td>  0.00</td>   \n",
       "</tr>\n",
       "<tr>\n",
       "  <th>Time:</th>                 <td>09:38:39</td>     <th>  Log-Likelihood:    </th> <td>-1.8749e+05</td>\n",
       "</tr>\n",
       "<tr>\n",
       "  <th>No. Observations:</th>      <td> 14097</td>      <th>  AIC:               </th>  <td>3.750e+05</td> \n",
       "</tr>\n",
       "<tr>\n",
       "  <th>Df Residuals:</th>          <td> 14092</td>      <th>  BIC:               </th>  <td>3.750e+05</td> \n",
       "</tr>\n",
       "<tr>\n",
       "  <th>Df Model:</th>              <td>     4</td>      <th>                     </th>      <td> </td>     \n",
       "</tr>\n",
       "<tr>\n",
       "  <th>Covariance Type:</th>      <td>nonrobust</td>    <th>                     </th>      <td> </td>     \n",
       "</tr>\n",
       "</table>\n",
       "<table class=\"simpletable\">\n",
       "<tr>\n",
       "        <td></td>           <th>coef</th>     <th>std err</th>      <th>t</th>      <th>P>|t|</th>  <th>[0.025</th>    <th>0.975]</th>  \n",
       "</tr>\n",
       "<tr>\n",
       "  <th>Intercept</th>     <td>-2.874e+05</td> <td> 1.03e+04</td> <td>  -27.797</td> <td> 0.000</td> <td>-3.08e+05</td> <td>-2.67e+05</td>\n",
       "</tr>\n",
       "<tr>\n",
       "  <th>grade</th>         <td> 7.413e+04</td> <td> 1800.999</td> <td>   41.162</td> <td> 0.000</td> <td> 7.06e+04</td> <td> 7.77e+04</td>\n",
       "</tr>\n",
       "<tr>\n",
       "  <th>sqft_living</th>   <td>  102.7828</td> <td>    3.313</td> <td>   31.026</td> <td> 0.000</td> <td>   96.289</td> <td>  109.276</td>\n",
       "</tr>\n",
       "<tr>\n",
       "  <th>sqft_living15</th> <td>   45.0563</td> <td>    3.194</td> <td>   14.105</td> <td> 0.000</td> <td>   38.795</td> <td>   51.318</td>\n",
       "</tr>\n",
       "<tr>\n",
       "  <th>sqft_above</th>    <td>  -52.4895</td> <td>    3.465</td> <td>  -15.148</td> <td> 0.000</td> <td>  -59.281</td> <td>  -45.698</td>\n",
       "</tr>\n",
       "</table>\n",
       "<table class=\"simpletable\">\n",
       "<tr>\n",
       "  <th>Omnibus:</th>       <td>517.776</td> <th>  Durbin-Watson:     </th> <td>   1.985</td> \n",
       "</tr>\n",
       "<tr>\n",
       "  <th>Prob(Omnibus):</th> <td> 0.000</td>  <th>  Jarque-Bera (JB):  </th> <td> 575.925</td> \n",
       "</tr>\n",
       "<tr>\n",
       "  <th>Skew:</th>          <td> 0.484</td>  <th>  Prob(JB):          </th> <td>8.70e-126</td>\n",
       "</tr>\n",
       "<tr>\n",
       "  <th>Kurtosis:</th>      <td> 3.206</td>  <th>  Cond. No.          </th> <td>2.92e+04</td> \n",
       "</tr>\n",
       "</table><br/><br/>Notes:<br/>[1] Standard Errors assume that the covariance matrix of the errors is correctly specified.<br/>[2] The condition number is large, 2.92e+04. This might indicate that there are<br/>strong multicollinearity or other numerical problems."
      ],
      "text/plain": [
       "<class 'statsmodels.iolib.summary.Summary'>\n",
       "\"\"\"\n",
       "                            OLS Regression Results                            \n",
       "==============================================================================\n",
       "Dep. Variable:                  price   R-squared:                       0.456\n",
       "Model:                            OLS   Adj. R-squared:                  0.456\n",
       "Method:                 Least Squares   F-statistic:                     2958.\n",
       "Date:                Sat, 12 Nov 2022   Prob (F-statistic):               0.00\n",
       "Time:                        09:38:39   Log-Likelihood:            -1.8749e+05\n",
       "No. Observations:               14097   AIC:                         3.750e+05\n",
       "Df Residuals:                   14092   BIC:                         3.750e+05\n",
       "Df Model:                           4                                         \n",
       "Covariance Type:            nonrobust                                         \n",
       "=================================================================================\n",
       "                    coef    std err          t      P>|t|      [0.025      0.975]\n",
       "---------------------------------------------------------------------------------\n",
       "Intercept     -2.874e+05   1.03e+04    -27.797      0.000   -3.08e+05   -2.67e+05\n",
       "grade          7.413e+04   1800.999     41.162      0.000    7.06e+04    7.77e+04\n",
       "sqft_living     102.7828      3.313     31.026      0.000      96.289     109.276\n",
       "sqft_living15    45.0563      3.194     14.105      0.000      38.795      51.318\n",
       "sqft_above      -52.4895      3.465    -15.148      0.000     -59.281     -45.698\n",
       "==============================================================================\n",
       "Omnibus:                      517.776   Durbin-Watson:                   1.985\n",
       "Prob(Omnibus):                  0.000   Jarque-Bera (JB):              575.925\n",
       "Skew:                           0.484   Prob(JB):                    8.70e-126\n",
       "Kurtosis:                       3.206   Cond. No.                     2.92e+04\n",
       "==============================================================================\n",
       "\n",
       "Notes:\n",
       "[1] Standard Errors assume that the covariance matrix of the errors is correctly specified.\n",
       "[2] The condition number is large, 2.92e+04. This might indicate that there are\n",
       "strong multicollinearity or other numerical problems.\n",
       "\"\"\""
      ]
     },
     "execution_count": 181,
     "metadata": {},
     "output_type": "execute_result"
    }
   ],
   "source": [
    "# baseline model\n",
    "features = ['grade']\n",
    "\n",
    "# add next three most correlated features\n",
    "for feature in ['sqft_living', 'sqft_living15', 'sqft_above']:\n",
    "    features.append(feature)\n",
    "\n",
    "# 70% / 30% train test split\n",
    "X_train, X_test, y_train, y_test = train_test_split(\n",
    "    data[features], data[['price']], test_size=0.3, random_state=421)\n",
    "\n",
    "# concatenate X_train & y_train for statsmodels linear regression\n",
    "all_train = pd.concat([X_train, y_train], axis=1)\n",
    "\n",
    "# build formula\n",
    "predictors = '+'.join(features)\n",
    "formula = 'price' + ' ~ ' + predictors\n",
    "\n",
    "# fit model using ordinary least squares\n",
    "model = ols(formula=formula, data=all_train).fit()\n",
    "\n",
    "# view model summary\n",
    "model.summary()"
   ]
  },
  {
   "cell_type": "markdown",
   "metadata": {},
   "source": [
    "This model has an R2 of 0.456, explaining about 45.6% of the variance in home price.\n",
    "\n",
    "The coefficient for grade is more modest now, suggesting that an increase in quality of the grade of construction by one level of ranking increases the price of the home by about \\\\$70000.\n",
    "\n",
    "Sqft_living has a much smaller effect on the price of the home per unit increase (which makes sense, because an increase in square footage by only 1 sqft should not have a huge effect on the price, but cumulatively, an increase in square footage by many square feet should cause an increase in price.) On average, an increase in square footage by 1 sqft should increase the price of a home by about \\\\$100. Or, in a more interpretable way, every 100 sqft increase in home size should increase the price by about \\\\$10,000.\n",
    "\n",
    "Sqft_living15, the average square footage of 15 neighboring homes, increases the price of the home by about \\\\$45 per square foot increase.\n",
    "\n",
    "Sqft_above, surprisingly, has a *negative* effect on the price of the home as it increases. I do not believe this, so I wonder what could be causing the model to interpret it this way -- are sqft_above and sqft_living too similar, and only one needs to be included?"
   ]
  },
  {
   "cell_type": "code",
   "execution_count": 182,
   "metadata": {},
   "outputs": [
    {
     "data": {
      "text/html": [
       "<table class=\"simpletable\">\n",
       "<caption>OLS Regression Results</caption>\n",
       "<tr>\n",
       "  <th>Dep. Variable:</th>          <td>price</td>      <th>  R-squared:         </th>  <td>   0.448</td>  \n",
       "</tr>\n",
       "<tr>\n",
       "  <th>Model:</th>                   <td>OLS</td>       <th>  Adj. R-squared:    </th>  <td>   0.447</td>  \n",
       "</tr>\n",
       "<tr>\n",
       "  <th>Method:</th>             <td>Least Squares</td>  <th>  F-statistic:       </th>  <td>   3806.</td>  \n",
       "</tr>\n",
       "<tr>\n",
       "  <th>Date:</th>             <td>Sat, 12 Nov 2022</td> <th>  Prob (F-statistic):</th>   <td>  0.00</td>   \n",
       "</tr>\n",
       "<tr>\n",
       "  <th>Time:</th>                 <td>09:38:41</td>     <th>  Log-Likelihood:    </th> <td>-1.8760e+05</td>\n",
       "</tr>\n",
       "<tr>\n",
       "  <th>No. Observations:</th>      <td> 14097</td>      <th>  AIC:               </th>  <td>3.752e+05</td> \n",
       "</tr>\n",
       "<tr>\n",
       "  <th>Df Residuals:</th>          <td> 14093</td>      <th>  BIC:               </th>  <td>3.752e+05</td> \n",
       "</tr>\n",
       "<tr>\n",
       "  <th>Df Model:</th>              <td>     3</td>      <th>                     </th>      <td> </td>     \n",
       "</tr>\n",
       "<tr>\n",
       "  <th>Covariance Type:</th>      <td>nonrobust</td>    <th>                     </th>      <td> </td>     \n",
       "</tr>\n",
       "</table>\n",
       "<table class=\"simpletable\">\n",
       "<tr>\n",
       "        <td></td>           <th>coef</th>     <th>std err</th>      <th>t</th>      <th>P>|t|</th>  <th>[0.025</th>    <th>0.975]</th>  \n",
       "</tr>\n",
       "<tr>\n",
       "  <th>Intercept</th>     <td>-2.517e+05</td> <td> 1.01e+04</td> <td>  -24.803</td> <td> 0.000</td> <td>-2.72e+05</td> <td>-2.32e+05</td>\n",
       "</tr>\n",
       "<tr>\n",
       "  <th>grade</th>         <td> 6.784e+04</td> <td> 1766.577</td> <td>   38.401</td> <td> 0.000</td> <td> 6.44e+04</td> <td> 7.13e+04</td>\n",
       "</tr>\n",
       "<tr>\n",
       "  <th>sqft_living</th>   <td>   71.6246</td> <td>    2.618</td> <td>   27.359</td> <td> 0.000</td> <td>   66.493</td> <td>   76.756</td>\n",
       "</tr>\n",
       "<tr>\n",
       "  <th>sqft_living15</th> <td>   36.4283</td> <td>    3.169</td> <td>   11.497</td> <td> 0.000</td> <td>   30.218</td> <td>   42.639</td>\n",
       "</tr>\n",
       "</table>\n",
       "<table class=\"simpletable\">\n",
       "<tr>\n",
       "  <th>Omnibus:</th>       <td>552.775</td> <th>  Durbin-Watson:     </th> <td>   1.980</td> \n",
       "</tr>\n",
       "<tr>\n",
       "  <th>Prob(Omnibus):</th> <td> 0.000</td>  <th>  Jarque-Bera (JB):  </th> <td> 618.714</td> \n",
       "</tr>\n",
       "<tr>\n",
       "  <th>Skew:</th>          <td> 0.507</td>  <th>  Prob(JB):          </th> <td>4.45e-135</td>\n",
       "</tr>\n",
       "<tr>\n",
       "  <th>Kurtosis:</th>      <td> 3.158</td>  <th>  Cond. No.          </th> <td>2.41e+04</td> \n",
       "</tr>\n",
       "</table><br/><br/>Notes:<br/>[1] Standard Errors assume that the covariance matrix of the errors is correctly specified.<br/>[2] The condition number is large, 2.41e+04. This might indicate that there are<br/>strong multicollinearity or other numerical problems."
      ],
      "text/plain": [
       "<class 'statsmodels.iolib.summary.Summary'>\n",
       "\"\"\"\n",
       "                            OLS Regression Results                            \n",
       "==============================================================================\n",
       "Dep. Variable:                  price   R-squared:                       0.448\n",
       "Model:                            OLS   Adj. R-squared:                  0.447\n",
       "Method:                 Least Squares   F-statistic:                     3806.\n",
       "Date:                Sat, 12 Nov 2022   Prob (F-statistic):               0.00\n",
       "Time:                        09:38:41   Log-Likelihood:            -1.8760e+05\n",
       "No. Observations:               14097   AIC:                         3.752e+05\n",
       "Df Residuals:                   14093   BIC:                         3.752e+05\n",
       "Df Model:                           3                                         \n",
       "Covariance Type:            nonrobust                                         \n",
       "=================================================================================\n",
       "                    coef    std err          t      P>|t|      [0.025      0.975]\n",
       "---------------------------------------------------------------------------------\n",
       "Intercept     -2.517e+05   1.01e+04    -24.803      0.000   -2.72e+05   -2.32e+05\n",
       "grade          6.784e+04   1766.577     38.401      0.000    6.44e+04    7.13e+04\n",
       "sqft_living      71.6246      2.618     27.359      0.000      66.493      76.756\n",
       "sqft_living15    36.4283      3.169     11.497      0.000      30.218      42.639\n",
       "==============================================================================\n",
       "Omnibus:                      552.775   Durbin-Watson:                   1.980\n",
       "Prob(Omnibus):                  0.000   Jarque-Bera (JB):              618.714\n",
       "Skew:                           0.507   Prob(JB):                    4.45e-135\n",
       "Kurtosis:                       3.158   Cond. No.                     2.41e+04\n",
       "==============================================================================\n",
       "\n",
       "Notes:\n",
       "[1] Standard Errors assume that the covariance matrix of the errors is correctly specified.\n",
       "[2] The condition number is large, 2.41e+04. This might indicate that there are\n",
       "strong multicollinearity or other numerical problems.\n",
       "\"\"\""
      ]
     },
     "execution_count": 182,
     "metadata": {},
     "output_type": "execute_result"
    }
   ],
   "source": [
    "# remove sqft_above, and observe effect on R2 and model coefficients\n",
    "features.remove('sqft_above')\n",
    "\n",
    "# 70% / 30% train test split\n",
    "X_train, X_test, y_train, y_test = train_test_split(\n",
    "    data[features], data[['price']], test_size=0.3, random_state=421)\n",
    "\n",
    "# concatenate X_train & y_train for statsmodels linear regression\n",
    "all_train = pd.concat([X_train, y_train], axis=1)\n",
    "\n",
    "# build formula\n",
    "predictors = '+'.join(features)\n",
    "formula = 'price' + ' ~ ' + predictors\n",
    "\n",
    "# fit model using ordinary least squares\n",
    "model = ols(formula=formula, data=all_train).fit()\n",
    "\n",
    "# view model summary\n",
    "model.summary()"
   ]
  },
  {
   "cell_type": "markdown",
   "metadata": {},
   "source": [
    "Removing sqft_above causes the coefficient of sqft_living to be more modest, but still positive, which I think makes sense. The R2 is slightly lowered by this choice, but I think it makes the coefficients more interpretable."
   ]
  },
  {
   "cell_type": "markdown",
   "metadata": {},
   "source": [
    "Next, I am going to add the next three most correlated features with price, SKIPPING latitude because that seems like an odd feature to include in a model for home price, and see if I can increase the R2 even more."
   ]
  },
  {
   "cell_type": "code",
   "execution_count": 183,
   "metadata": {},
   "outputs": [
    {
     "data": {
      "text/html": [
       "<table class=\"simpletable\">\n",
       "<caption>OLS Regression Results</caption>\n",
       "<tr>\n",
       "  <th>Dep. Variable:</th>          <td>price</td>      <th>  R-squared:         </th>  <td>   0.451</td>  \n",
       "</tr>\n",
       "<tr>\n",
       "  <th>Model:</th>                   <td>OLS</td>       <th>  Adj. R-squared:    </th>  <td>   0.451</td>  \n",
       "</tr>\n",
       "<tr>\n",
       "  <th>Method:</th>             <td>Least Squares</td>  <th>  F-statistic:       </th>  <td>   1929.</td>  \n",
       "</tr>\n",
       "<tr>\n",
       "  <th>Date:</th>             <td>Sat, 12 Nov 2022</td> <th>  Prob (F-statistic):</th>   <td>  0.00</td>   \n",
       "</tr>\n",
       "<tr>\n",
       "  <th>Time:</th>                 <td>09:38:44</td>     <th>  Log-Likelihood:    </th> <td>-1.8756e+05</td>\n",
       "</tr>\n",
       "<tr>\n",
       "  <th>No. Observations:</th>      <td> 14097</td>      <th>  AIC:               </th>  <td>3.751e+05</td> \n",
       "</tr>\n",
       "<tr>\n",
       "  <th>Df Residuals:</th>          <td> 14090</td>      <th>  BIC:               </th>  <td>3.752e+05</td> \n",
       "</tr>\n",
       "<tr>\n",
       "  <th>Df Model:</th>              <td>     6</td>      <th>                     </th>      <td> </td>     \n",
       "</tr>\n",
       "<tr>\n",
       "  <th>Covariance Type:</th>      <td>nonrobust</td>    <th>                     </th>      <td> </td>     \n",
       "</tr>\n",
       "</table>\n",
       "<table class=\"simpletable\">\n",
       "<tr>\n",
       "        <td></td>           <th>coef</th>     <th>std err</th>      <th>t</th>      <th>P>|t|</th>  <th>[0.025</th>    <th>0.975]</th>  \n",
       "</tr>\n",
       "<tr>\n",
       "  <th>Intercept</th>     <td>-2.263e+05</td> <td> 1.13e+04</td> <td>  -19.990</td> <td> 0.000</td> <td>-2.49e+05</td> <td>-2.04e+05</td>\n",
       "</tr>\n",
       "<tr>\n",
       "  <th>grade</th>         <td> 6.926e+04</td> <td> 1899.121</td> <td>   36.467</td> <td> 0.000</td> <td> 6.55e+04</td> <td>  7.3e+04</td>\n",
       "</tr>\n",
       "<tr>\n",
       "  <th>sqft_living</th>   <td>   89.9718</td> <td>    3.290</td> <td>   27.350</td> <td> 0.000</td> <td>   83.524</td> <td>   96.420</td>\n",
       "</tr>\n",
       "<tr>\n",
       "  <th>sqft_living15</th> <td>   33.8655</td> <td>    3.175</td> <td>   10.666</td> <td> 0.000</td> <td>   27.642</td> <td>   40.089</td>\n",
       "</tr>\n",
       "<tr>\n",
       "  <th>bathrooms</th>     <td>-1.702e+04</td> <td> 2765.249</td> <td>   -6.155</td> <td> 0.000</td> <td>-2.24e+04</td> <td>-1.16e+04</td>\n",
       "</tr>\n",
       "<tr>\n",
       "  <th>bedrooms</th>      <td>-9740.3674</td> <td> 1798.102</td> <td>   -5.417</td> <td> 0.000</td> <td>-1.33e+04</td> <td>-6215.850</td>\n",
       "</tr>\n",
       "<tr>\n",
       "  <th>floors</th>        <td>    7.2810</td> <td> 2764.020</td> <td>    0.003</td> <td> 0.998</td> <td>-5410.564</td> <td> 5425.126</td>\n",
       "</tr>\n",
       "</table>\n",
       "<table class=\"simpletable\">\n",
       "<tr>\n",
       "  <th>Omnibus:</th>       <td>564.037</td> <th>  Durbin-Watson:     </th> <td>   1.976</td> \n",
       "</tr>\n",
       "<tr>\n",
       "  <th>Prob(Omnibus):</th> <td> 0.000</td>  <th>  Jarque-Bera (JB):  </th> <td> 632.895</td> \n",
       "</tr>\n",
       "<tr>\n",
       "  <th>Skew:</th>          <td> 0.510</td>  <th>  Prob(JB):          </th> <td>3.70e-138</td>\n",
       "</tr>\n",
       "<tr>\n",
       "  <th>Kurtosis:</th>      <td> 3.195</td>  <th>  Cond. No.          </th> <td>2.69e+04</td> \n",
       "</tr>\n",
       "</table><br/><br/>Notes:<br/>[1] Standard Errors assume that the covariance matrix of the errors is correctly specified.<br/>[2] The condition number is large, 2.69e+04. This might indicate that there are<br/>strong multicollinearity or other numerical problems."
      ],
      "text/plain": [
       "<class 'statsmodels.iolib.summary.Summary'>\n",
       "\"\"\"\n",
       "                            OLS Regression Results                            \n",
       "==============================================================================\n",
       "Dep. Variable:                  price   R-squared:                       0.451\n",
       "Model:                            OLS   Adj. R-squared:                  0.451\n",
       "Method:                 Least Squares   F-statistic:                     1929.\n",
       "Date:                Sat, 12 Nov 2022   Prob (F-statistic):               0.00\n",
       "Time:                        09:38:44   Log-Likelihood:            -1.8756e+05\n",
       "No. Observations:               14097   AIC:                         3.751e+05\n",
       "Df Residuals:                   14090   BIC:                         3.752e+05\n",
       "Df Model:                           6                                         \n",
       "Covariance Type:            nonrobust                                         \n",
       "=================================================================================\n",
       "                    coef    std err          t      P>|t|      [0.025      0.975]\n",
       "---------------------------------------------------------------------------------\n",
       "Intercept     -2.263e+05   1.13e+04    -19.990      0.000   -2.49e+05   -2.04e+05\n",
       "grade          6.926e+04   1899.121     36.467      0.000    6.55e+04     7.3e+04\n",
       "sqft_living      89.9718      3.290     27.350      0.000      83.524      96.420\n",
       "sqft_living15    33.8655      3.175     10.666      0.000      27.642      40.089\n",
       "bathrooms     -1.702e+04   2765.249     -6.155      0.000   -2.24e+04   -1.16e+04\n",
       "bedrooms      -9740.3674   1798.102     -5.417      0.000   -1.33e+04   -6215.850\n",
       "floors            7.2810   2764.020      0.003      0.998   -5410.564    5425.126\n",
       "==============================================================================\n",
       "Omnibus:                      564.037   Durbin-Watson:                   1.976\n",
       "Prob(Omnibus):                  0.000   Jarque-Bera (JB):              632.895\n",
       "Skew:                           0.510   Prob(JB):                    3.70e-138\n",
       "Kurtosis:                       3.195   Cond. No.                     2.69e+04\n",
       "==============================================================================\n",
       "\n",
       "Notes:\n",
       "[1] Standard Errors assume that the covariance matrix of the errors is correctly specified.\n",
       "[2] The condition number is large, 2.69e+04. This might indicate that there are\n",
       "strong multicollinearity or other numerical problems.\n",
       "\"\"\""
      ]
     },
     "execution_count": 183,
     "metadata": {},
     "output_type": "execute_result"
    }
   ],
   "source": [
    "# add next three most correlated features\n",
    "for feature in ['bathrooms', 'bedrooms', 'floors']:\n",
    "    features.append(feature)\n",
    "\n",
    "# 70% / 30% train test split\n",
    "X_train, X_test, y_train, y_test = train_test_split(\n",
    "    data[features], data[['price']], test_size=0.3, random_state=421)\n",
    "\n",
    "# concatenate X_train & y_train for statsmodels linear regression\n",
    "all_train = pd.concat([X_train, y_train], axis=1)\n",
    "\n",
    "# build formula\n",
    "predictors = '+'.join(features)\n",
    "formula = 'price' + ' ~ ' + predictors\n",
    "\n",
    "# fit model using ordinary least squares\n",
    "model = ols(formula=formula, data=all_train).fit()\n",
    "\n",
    "# view model summary\n",
    "model.summary()"
   ]
  },
  {
   "cell_type": "markdown",
   "metadata": {},
   "source": [
    "The R2 value of the model increases by only 0.03; these features seem to add little predictive power to the model.\n",
    "\n",
    "Looking at the coefficients of the model, the perceived effect of increases in grade and sqft_living on price are still comparable to that of the last model, and the effect of sqft_living15 has slightly decreased, but is still decidedly positive.\n",
    "\n",
    "An increase in the number of bathrooms and bedrooms is interpreted as *decreasing* the value of the home which I find surprising. This suggests to me that, once again, we may be dealing with multicollinearity which the model is not able to interpret correctly in terms of which variable is influencing the price and in which direction.\n",
    "\n",
    "The p-value and the coefficent for floors suggests that floors has very little predictive power for the home price, and the coefficient really cannot be interpreted, other than to say that, all else held equal, increasing or decreasing the number of floors does not have a consistent effect on home price. This makes sense to me, because some people may actually want a one-story home, but it is probably not a big priority for most people on the market for new houses, especially younger people, and in that case, a one story home may correlate with a smaller home which is less desirable. Whatever the case may be, I am going to drop floor from my model due to lack of explanatory power."
   ]
  },
  {
   "cell_type": "code",
   "execution_count": 184,
   "metadata": {},
   "outputs": [
    {
     "data": {
      "text/html": [
       "<table class=\"simpletable\">\n",
       "<caption>OLS Regression Results</caption>\n",
       "<tr>\n",
       "  <th>Dep. Variable:</th>          <td>price</td>      <th>  R-squared:         </th>  <td>   0.451</td>  \n",
       "</tr>\n",
       "<tr>\n",
       "  <th>Model:</th>                   <td>OLS</td>       <th>  Adj. R-squared:    </th>  <td>   0.451</td>  \n",
       "</tr>\n",
       "<tr>\n",
       "  <th>Method:</th>             <td>Least Squares</td>  <th>  F-statistic:       </th>  <td>   2315.</td>  \n",
       "</tr>\n",
       "<tr>\n",
       "  <th>Date:</th>             <td>Sat, 12 Nov 2022</td> <th>  Prob (F-statistic):</th>   <td>  0.00</td>   \n",
       "</tr>\n",
       "<tr>\n",
       "  <th>Time:</th>                 <td>09:38:47</td>     <th>  Log-Likelihood:    </th> <td>-1.8756e+05</td>\n",
       "</tr>\n",
       "<tr>\n",
       "  <th>No. Observations:</th>      <td> 14097</td>      <th>  AIC:               </th>  <td>3.751e+05</td> \n",
       "</tr>\n",
       "<tr>\n",
       "  <th>Df Residuals:</th>          <td> 14091</td>      <th>  BIC:               </th>  <td>3.752e+05</td> \n",
       "</tr>\n",
       "<tr>\n",
       "  <th>Df Model:</th>              <td>     5</td>      <th>                     </th>      <td> </td>     \n",
       "</tr>\n",
       "<tr>\n",
       "  <th>Covariance Type:</th>      <td>nonrobust</td>    <th>                     </th>      <td> </td>     \n",
       "</tr>\n",
       "</table>\n",
       "<table class=\"simpletable\">\n",
       "<tr>\n",
       "        <td></td>           <th>coef</th>     <th>std err</th>      <th>t</th>      <th>P>|t|</th>  <th>[0.025</th>    <th>0.975]</th>  \n",
       "</tr>\n",
       "<tr>\n",
       "  <th>Intercept</th>     <td>-2.263e+05</td> <td> 1.13e+04</td> <td>  -20.004</td> <td> 0.000</td> <td>-2.49e+05</td> <td>-2.04e+05</td>\n",
       "</tr>\n",
       "<tr>\n",
       "  <th>grade</th>         <td> 6.926e+04</td> <td> 1835.492</td> <td>   37.732</td> <td> 0.000</td> <td> 6.57e+04</td> <td> 7.29e+04</td>\n",
       "</tr>\n",
       "<tr>\n",
       "  <th>sqft_living</th>   <td>   89.9711</td> <td>    3.280</td> <td>   27.431</td> <td> 0.000</td> <td>   83.542</td> <td>   96.400</td>\n",
       "</tr>\n",
       "<tr>\n",
       "  <th>sqft_living15</th> <td>   33.8650</td> <td>    3.171</td> <td>   10.680</td> <td> 0.000</td> <td>   27.650</td> <td>   40.080</td>\n",
       "</tr>\n",
       "<tr>\n",
       "  <th>bathrooms</th>     <td>-1.702e+04</td> <td> 2585.573</td> <td>   -6.582</td> <td> 0.000</td> <td>-2.21e+04</td> <td>-1.19e+04</td>\n",
       "</tr>\n",
       "<tr>\n",
       "  <th>bedrooms</th>      <td>-9740.6800</td> <td> 1794.119</td> <td>   -5.429</td> <td> 0.000</td> <td>-1.33e+04</td> <td>-6223.970</td>\n",
       "</tr>\n",
       "</table>\n",
       "<table class=\"simpletable\">\n",
       "<tr>\n",
       "  <th>Omnibus:</th>       <td>564.033</td> <th>  Durbin-Watson:     </th> <td>   1.976</td> \n",
       "</tr>\n",
       "<tr>\n",
       "  <th>Prob(Omnibus):</th> <td> 0.000</td>  <th>  Jarque-Bera (JB):  </th> <td> 632.889</td> \n",
       "</tr>\n",
       "<tr>\n",
       "  <th>Skew:</th>          <td> 0.510</td>  <th>  Prob(JB):          </th> <td>3.71e-138</td>\n",
       "</tr>\n",
       "<tr>\n",
       "  <th>Kurtosis:</th>      <td> 3.195</td>  <th>  Cond. No.          </th> <td>2.69e+04</td> \n",
       "</tr>\n",
       "</table><br/><br/>Notes:<br/>[1] Standard Errors assume that the covariance matrix of the errors is correctly specified.<br/>[2] The condition number is large, 2.69e+04. This might indicate that there are<br/>strong multicollinearity or other numerical problems."
      ],
      "text/plain": [
       "<class 'statsmodels.iolib.summary.Summary'>\n",
       "\"\"\"\n",
       "                            OLS Regression Results                            \n",
       "==============================================================================\n",
       "Dep. Variable:                  price   R-squared:                       0.451\n",
       "Model:                            OLS   Adj. R-squared:                  0.451\n",
       "Method:                 Least Squares   F-statistic:                     2315.\n",
       "Date:                Sat, 12 Nov 2022   Prob (F-statistic):               0.00\n",
       "Time:                        09:38:47   Log-Likelihood:            -1.8756e+05\n",
       "No. Observations:               14097   AIC:                         3.751e+05\n",
       "Df Residuals:                   14091   BIC:                         3.752e+05\n",
       "Df Model:                           5                                         \n",
       "Covariance Type:            nonrobust                                         \n",
       "=================================================================================\n",
       "                    coef    std err          t      P>|t|      [0.025      0.975]\n",
       "---------------------------------------------------------------------------------\n",
       "Intercept     -2.263e+05   1.13e+04    -20.004      0.000   -2.49e+05   -2.04e+05\n",
       "grade          6.926e+04   1835.492     37.732      0.000    6.57e+04    7.29e+04\n",
       "sqft_living      89.9711      3.280     27.431      0.000      83.542      96.400\n",
       "sqft_living15    33.8650      3.171     10.680      0.000      27.650      40.080\n",
       "bathrooms     -1.702e+04   2585.573     -6.582      0.000   -2.21e+04   -1.19e+04\n",
       "bedrooms      -9740.6800   1794.119     -5.429      0.000   -1.33e+04   -6223.970\n",
       "==============================================================================\n",
       "Omnibus:                      564.033   Durbin-Watson:                   1.976\n",
       "Prob(Omnibus):                  0.000   Jarque-Bera (JB):              632.889\n",
       "Skew:                           0.510   Prob(JB):                    3.71e-138\n",
       "Kurtosis:                       3.195   Cond. No.                     2.69e+04\n",
       "==============================================================================\n",
       "\n",
       "Notes:\n",
       "[1] Standard Errors assume that the covariance matrix of the errors is correctly specified.\n",
       "[2] The condition number is large, 2.69e+04. This might indicate that there are\n",
       "strong multicollinearity or other numerical problems.\n",
       "\"\"\""
      ]
     },
     "execution_count": 184,
     "metadata": {},
     "output_type": "execute_result"
    }
   ],
   "source": [
    "# drop floors, check effect on model\n",
    "features.remove('floors')\n",
    "\n",
    "# 70% / 30% train test split\n",
    "X_train, X_test, y_train, y_test = train_test_split(\n",
    "    data[features], data[['price']], test_size=0.3, random_state=421)\n",
    "\n",
    "# concatenate X_train & y_train for statsmodels linear regression\n",
    "all_train = pd.concat([X_train, y_train], axis=1)\n",
    "\n",
    "# build formula\n",
    "predictors = '+'.join(features)\n",
    "formula = 'price' + ' ~ ' + predictors\n",
    "\n",
    "# fit model using ordinary least squares\n",
    "model = ols(formula=formula, data=all_train).fit()\n",
    "\n",
    "# view model summary\n",
    "model.summary()"
   ]
  },
  {
   "cell_type": "markdown",
   "metadata": {},
   "source": [
    "Looking back at the list of correlations with price, and considering which features might offer different and relevant information about the price of a home, I want to experiment with adding the following features:\n",
    "\n",
    "- **view** and **waterfront**, because they seem to add a dimension that home purchasers might feasibly care about which is different from that already encompassed by grade of construction and square footage and other size information\n",
    "- **sqft_lot**, as it could encompass information about size of the property which hasn't yet been covered by indoor features\n",
    "- **school_district** as this will be the only geographic location based information included in the model, and it seems that this would be important to home buyers\n",
    "- **basement**, **renovated** and **yr_built** could be added as a last resort, to see if they have any significant, measurable effect on home price\n",
    "\n",
    "I am also going to experiment with **removing** bedrooms and bathrooms since I don't buy that these would have a negative effect on home price, and I think this may be caused by multicollinearity."
   ]
  },
  {
   "cell_type": "code",
   "execution_count": 185,
   "metadata": {},
   "outputs": [
    {
     "data": {
      "text/html": [
       "<table class=\"simpletable\">\n",
       "<caption>OLS Regression Results</caption>\n",
       "<tr>\n",
       "  <th>Dep. Variable:</th>          <td>price</td>      <th>  R-squared:         </th>  <td>   0.463</td>  \n",
       "</tr>\n",
       "<tr>\n",
       "  <th>Model:</th>                   <td>OLS</td>       <th>  Adj. R-squared:    </th>  <td>   0.463</td>  \n",
       "</tr>\n",
       "<tr>\n",
       "  <th>Method:</th>             <td>Least Squares</td>  <th>  F-statistic:       </th>  <td>   1738.</td>  \n",
       "</tr>\n",
       "<tr>\n",
       "  <th>Date:</th>             <td>Sat, 12 Nov 2022</td> <th>  Prob (F-statistic):</th>   <td>  0.00</td>   \n",
       "</tr>\n",
       "<tr>\n",
       "  <th>Time:</th>                 <td>09:38:50</td>     <th>  Log-Likelihood:    </th> <td>-1.8740e+05</td>\n",
       "</tr>\n",
       "<tr>\n",
       "  <th>No. Observations:</th>      <td> 14097</td>      <th>  AIC:               </th>  <td>3.748e+05</td> \n",
       "</tr>\n",
       "<tr>\n",
       "  <th>Df Residuals:</th>          <td> 14089</td>      <th>  BIC:               </th>  <td>3.749e+05</td> \n",
       "</tr>\n",
       "<tr>\n",
       "  <th>Df Model:</th>              <td>     7</td>      <th>                     </th>      <td> </td>     \n",
       "</tr>\n",
       "<tr>\n",
       "  <th>Covariance Type:</th>      <td>nonrobust</td>    <th>                     </th>      <td> </td>     \n",
       "</tr>\n",
       "</table>\n",
       "<table class=\"simpletable\">\n",
       "<tr>\n",
       "        <td></td>           <th>coef</th>     <th>std err</th>      <th>t</th>      <th>P>|t|</th>  <th>[0.025</th>    <th>0.975]</th>  \n",
       "</tr>\n",
       "<tr>\n",
       "  <th>Intercept</th>     <td>-2.285e+05</td> <td> 1.12e+04</td> <td>  -20.414</td> <td> 0.000</td> <td> -2.5e+05</td> <td>-2.07e+05</td>\n",
       "</tr>\n",
       "<tr>\n",
       "  <th>grade</th>         <td>  6.97e+04</td> <td> 1815.121</td> <td>   38.399</td> <td> 0.000</td> <td> 6.61e+04</td> <td> 7.33e+04</td>\n",
       "</tr>\n",
       "<tr>\n",
       "  <th>sqft_living</th>   <td>   86.1844</td> <td>    3.251</td> <td>   26.508</td> <td> 0.000</td> <td>   79.812</td> <td>   92.557</td>\n",
       "</tr>\n",
       "<tr>\n",
       "  <th>sqft_living15</th> <td>   29.4908</td> <td>    3.146</td> <td>    9.375</td> <td> 0.000</td> <td>   23.325</td> <td>   35.656</td>\n",
       "</tr>\n",
       "<tr>\n",
       "  <th>bathrooms</th>     <td>-1.608e+04</td> <td> 2557.470</td> <td>   -6.286</td> <td> 0.000</td> <td>-2.11e+04</td> <td>-1.11e+04</td>\n",
       "</tr>\n",
       "<tr>\n",
       "  <th>bedrooms</th>      <td>-7581.4530</td> <td> 1777.872</td> <td>   -4.264</td> <td> 0.000</td> <td>-1.11e+04</td> <td>-4096.589</td>\n",
       "</tr>\n",
       "<tr>\n",
       "  <th>view</th>          <td> 3.252e+04</td> <td> 2092.520</td> <td>   15.542</td> <td> 0.000</td> <td> 2.84e+04</td> <td> 3.66e+04</td>\n",
       "</tr>\n",
       "<tr>\n",
       "  <th>waterfront</th>    <td> 1.139e+05</td> <td> 2.57e+04</td> <td>    4.429</td> <td> 0.000</td> <td> 6.35e+04</td> <td> 1.64e+05</td>\n",
       "</tr>\n",
       "</table>\n",
       "<table class=\"simpletable\">\n",
       "<tr>\n",
       "  <th>Omnibus:</th>       <td>514.974</td> <th>  Durbin-Watson:     </th> <td>   1.977</td> \n",
       "</tr>\n",
       "<tr>\n",
       "  <th>Prob(Omnibus):</th> <td> 0.000</td>  <th>  Jarque-Bera (JB):  </th> <td> 572.676</td> \n",
       "</tr>\n",
       "<tr>\n",
       "  <th>Skew:</th>          <td> 0.482</td>  <th>  Prob(JB):          </th> <td>4.41e-125</td>\n",
       "</tr>\n",
       "<tr>\n",
       "  <th>Kurtosis:</th>      <td> 3.215</td>  <th>  Cond. No.          </th> <td>6.11e+04</td> \n",
       "</tr>\n",
       "</table><br/><br/>Notes:<br/>[1] Standard Errors assume that the covariance matrix of the errors is correctly specified.<br/>[2] The condition number is large, 6.11e+04. This might indicate that there are<br/>strong multicollinearity or other numerical problems."
      ],
      "text/plain": [
       "<class 'statsmodels.iolib.summary.Summary'>\n",
       "\"\"\"\n",
       "                            OLS Regression Results                            \n",
       "==============================================================================\n",
       "Dep. Variable:                  price   R-squared:                       0.463\n",
       "Model:                            OLS   Adj. R-squared:                  0.463\n",
       "Method:                 Least Squares   F-statistic:                     1738.\n",
       "Date:                Sat, 12 Nov 2022   Prob (F-statistic):               0.00\n",
       "Time:                        09:38:50   Log-Likelihood:            -1.8740e+05\n",
       "No. Observations:               14097   AIC:                         3.748e+05\n",
       "Df Residuals:                   14089   BIC:                         3.749e+05\n",
       "Df Model:                           7                                         \n",
       "Covariance Type:            nonrobust                                         \n",
       "=================================================================================\n",
       "                    coef    std err          t      P>|t|      [0.025      0.975]\n",
       "---------------------------------------------------------------------------------\n",
       "Intercept     -2.285e+05   1.12e+04    -20.414      0.000    -2.5e+05   -2.07e+05\n",
       "grade           6.97e+04   1815.121     38.399      0.000    6.61e+04    7.33e+04\n",
       "sqft_living      86.1844      3.251     26.508      0.000      79.812      92.557\n",
       "sqft_living15    29.4908      3.146      9.375      0.000      23.325      35.656\n",
       "bathrooms     -1.608e+04   2557.470     -6.286      0.000   -2.11e+04   -1.11e+04\n",
       "bedrooms      -7581.4530   1777.872     -4.264      0.000   -1.11e+04   -4096.589\n",
       "view           3.252e+04   2092.520     15.542      0.000    2.84e+04    3.66e+04\n",
       "waterfront     1.139e+05   2.57e+04      4.429      0.000    6.35e+04    1.64e+05\n",
       "==============================================================================\n",
       "Omnibus:                      514.974   Durbin-Watson:                   1.977\n",
       "Prob(Omnibus):                  0.000   Jarque-Bera (JB):              572.676\n",
       "Skew:                           0.482   Prob(JB):                    4.41e-125\n",
       "Kurtosis:                       3.215   Cond. No.                     6.11e+04\n",
       "==============================================================================\n",
       "\n",
       "Notes:\n",
       "[1] Standard Errors assume that the covariance matrix of the errors is correctly specified.\n",
       "[2] The condition number is large, 6.11e+04. This might indicate that there are\n",
       "strong multicollinearity or other numerical problems.\n",
       "\"\"\""
      ]
     },
     "execution_count": 185,
     "metadata": {},
     "output_type": "execute_result"
    }
   ],
   "source": [
    "# adding view and waterfront\n",
    "for feature in ['view', 'waterfront']:\n",
    "    features.append(feature)\n",
    "\n",
    "# 70% / 30% train test split\n",
    "X_train, X_test, y_train, y_test = train_test_split(\n",
    "    data[features], data[['price']], test_size=0.3, random_state=421)\n",
    "\n",
    "# concatenate X_train & y_train for statsmodels linear regression\n",
    "all_train = pd.concat([X_train, y_train], axis=1)\n",
    "\n",
    "# build formula\n",
    "predictors = '+'.join(features)\n",
    "formula = 'price' + ' ~ ' + predictors\n",
    "\n",
    "# fit model using ordinary least squares\n",
    "model = ols(formula=formula, data=all_train).fit()\n",
    "\n",
    "# view model summary\n",
    "model.summary()"
   ]
  },
  {
   "cell_type": "markdown",
   "metadata": {},
   "source": [
    "According to the coefficients of this new model, having a view can increase the price of your home by \\\\$30,000 versus not having a view. This effect is statistically significant.\n",
    "\n",
    "Additionally, being on a waterfront, all else held equal, increases the price of your home by anywhere from \\\\$63,500 to \\\\$164,000.\n",
    "\n",
    "The R2 is not increasing much with the addition of new features, but the coefficients are still interpretable and statistically significant."
   ]
  },
  {
   "cell_type": "code",
   "execution_count": 186,
   "metadata": {},
   "outputs": [
    {
     "data": {
      "text/html": [
       "<table class=\"simpletable\">\n",
       "<caption>OLS Regression Results</caption>\n",
       "<tr>\n",
       "  <th>Dep. Variable:</th>          <td>price</td>      <th>  R-squared:         </th>  <td>   0.463</td>  \n",
       "</tr>\n",
       "<tr>\n",
       "  <th>Model:</th>                   <td>OLS</td>       <th>  Adj. R-squared:    </th>  <td>   0.463</td>  \n",
       "</tr>\n",
       "<tr>\n",
       "  <th>Method:</th>             <td>Least Squares</td>  <th>  F-statistic:       </th>  <td>   1521.</td>  \n",
       "</tr>\n",
       "<tr>\n",
       "  <th>Date:</th>             <td>Sat, 12 Nov 2022</td> <th>  Prob (F-statistic):</th>   <td>  0.00</td>   \n",
       "</tr>\n",
       "<tr>\n",
       "  <th>Time:</th>                 <td>09:38:53</td>     <th>  Log-Likelihood:    </th> <td>-1.8740e+05</td>\n",
       "</tr>\n",
       "<tr>\n",
       "  <th>No. Observations:</th>      <td> 14097</td>      <th>  AIC:               </th>  <td>3.748e+05</td> \n",
       "</tr>\n",
       "<tr>\n",
       "  <th>Df Residuals:</th>          <td> 14088</td>      <th>  BIC:               </th>  <td>3.749e+05</td> \n",
       "</tr>\n",
       "<tr>\n",
       "  <th>Df Model:</th>              <td>     8</td>      <th>                     </th>      <td> </td>     \n",
       "</tr>\n",
       "<tr>\n",
       "  <th>Covariance Type:</th>      <td>nonrobust</td>    <th>                     </th>      <td> </td>     \n",
       "</tr>\n",
       "</table>\n",
       "<table class=\"simpletable\">\n",
       "<tr>\n",
       "        <td></td>           <th>coef</th>     <th>std err</th>      <th>t</th>      <th>P>|t|</th>  <th>[0.025</th>    <th>0.975]</th>  \n",
       "</tr>\n",
       "<tr>\n",
       "  <th>Intercept</th>     <td>-2.274e+05</td> <td> 1.12e+04</td> <td>  -20.290</td> <td> 0.000</td> <td>-2.49e+05</td> <td>-2.05e+05</td>\n",
       "</tr>\n",
       "<tr>\n",
       "  <th>grade</th>         <td> 6.958e+04</td> <td> 1816.195</td> <td>   38.311</td> <td> 0.000</td> <td>  6.6e+04</td> <td> 7.31e+04</td>\n",
       "</tr>\n",
       "<tr>\n",
       "  <th>sqft_living</th>   <td>   86.9164</td> <td>    3.277</td> <td>   26.524</td> <td> 0.000</td> <td>   80.493</td> <td>   93.340</td>\n",
       "</tr>\n",
       "<tr>\n",
       "  <th>sqft_living15</th> <td>   29.6933</td> <td>    3.147</td> <td>    9.434</td> <td> 0.000</td> <td>   23.524</td> <td>   35.863</td>\n",
       "</tr>\n",
       "<tr>\n",
       "  <th>bathrooms</th>     <td>-1.628e+04</td> <td> 2559.794</td> <td>   -6.359</td> <td> 0.000</td> <td>-2.13e+04</td> <td>-1.13e+04</td>\n",
       "</tr>\n",
       "<tr>\n",
       "  <th>bedrooms</th>      <td>-7820.0361</td> <td> 1782.783</td> <td>   -4.386</td> <td> 0.000</td> <td>-1.13e+04</td> <td>-4325.546</td>\n",
       "</tr>\n",
       "<tr>\n",
       "  <th>view</th>          <td> 3.267e+04</td> <td> 2094.054</td> <td>   15.602</td> <td> 0.000</td> <td> 2.86e+04</td> <td> 3.68e+04</td>\n",
       "</tr>\n",
       "<tr>\n",
       "  <th>waterfront</th>    <td> 1.138e+05</td> <td> 2.57e+04</td> <td>    4.425</td> <td> 0.000</td> <td> 6.34e+04</td> <td> 1.64e+05</td>\n",
       "</tr>\n",
       "<tr>\n",
       "  <th>sqft_lot</th>      <td>   -0.0570</td> <td>    0.032</td> <td>   -1.780</td> <td> 0.075</td> <td>   -0.120</td> <td>    0.006</td>\n",
       "</tr>\n",
       "</table>\n",
       "<table class=\"simpletable\">\n",
       "<tr>\n",
       "  <th>Omnibus:</th>       <td>508.814</td> <th>  Durbin-Watson:     </th> <td>   1.977</td> \n",
       "</tr>\n",
       "<tr>\n",
       "  <th>Prob(Omnibus):</th> <td> 0.000</td>  <th>  Jarque-Bera (JB):  </th> <td> 565.147</td> \n",
       "</tr>\n",
       "<tr>\n",
       "  <th>Skew:</th>          <td> 0.479</td>  <th>  Prob(JB):          </th> <td>1.90e-123</td>\n",
       "</tr>\n",
       "<tr>\n",
       "  <th>Kurtosis:</th>      <td> 3.214</td>  <th>  Cond. No.          </th> <td>8.75e+05</td> \n",
       "</tr>\n",
       "</table><br/><br/>Notes:<br/>[1] Standard Errors assume that the covariance matrix of the errors is correctly specified.<br/>[2] The condition number is large, 8.75e+05. This might indicate that there are<br/>strong multicollinearity or other numerical problems."
      ],
      "text/plain": [
       "<class 'statsmodels.iolib.summary.Summary'>\n",
       "\"\"\"\n",
       "                            OLS Regression Results                            \n",
       "==============================================================================\n",
       "Dep. Variable:                  price   R-squared:                       0.463\n",
       "Model:                            OLS   Adj. R-squared:                  0.463\n",
       "Method:                 Least Squares   F-statistic:                     1521.\n",
       "Date:                Sat, 12 Nov 2022   Prob (F-statistic):               0.00\n",
       "Time:                        09:38:53   Log-Likelihood:            -1.8740e+05\n",
       "No. Observations:               14097   AIC:                         3.748e+05\n",
       "Df Residuals:                   14088   BIC:                         3.749e+05\n",
       "Df Model:                           8                                         \n",
       "Covariance Type:            nonrobust                                         \n",
       "=================================================================================\n",
       "                    coef    std err          t      P>|t|      [0.025      0.975]\n",
       "---------------------------------------------------------------------------------\n",
       "Intercept     -2.274e+05   1.12e+04    -20.290      0.000   -2.49e+05   -2.05e+05\n",
       "grade          6.958e+04   1816.195     38.311      0.000     6.6e+04    7.31e+04\n",
       "sqft_living      86.9164      3.277     26.524      0.000      80.493      93.340\n",
       "sqft_living15    29.6933      3.147      9.434      0.000      23.524      35.863\n",
       "bathrooms     -1.628e+04   2559.794     -6.359      0.000   -2.13e+04   -1.13e+04\n",
       "bedrooms      -7820.0361   1782.783     -4.386      0.000   -1.13e+04   -4325.546\n",
       "view           3.267e+04   2094.054     15.602      0.000    2.86e+04    3.68e+04\n",
       "waterfront     1.138e+05   2.57e+04      4.425      0.000    6.34e+04    1.64e+05\n",
       "sqft_lot         -0.0570      0.032     -1.780      0.075      -0.120       0.006\n",
       "==============================================================================\n",
       "Omnibus:                      508.814   Durbin-Watson:                   1.977\n",
       "Prob(Omnibus):                  0.000   Jarque-Bera (JB):              565.147\n",
       "Skew:                           0.479   Prob(JB):                    1.90e-123\n",
       "Kurtosis:                       3.214   Cond. No.                     8.75e+05\n",
       "==============================================================================\n",
       "\n",
       "Notes:\n",
       "[1] Standard Errors assume that the covariance matrix of the errors is correctly specified.\n",
       "[2] The condition number is large, 8.75e+05. This might indicate that there are\n",
       "strong multicollinearity or other numerical problems.\n",
       "\"\"\""
      ]
     },
     "execution_count": 186,
     "metadata": {},
     "output_type": "execute_result"
    }
   ],
   "source": [
    "# try adding sqft_lot; does it bring new information to the model?\n",
    "features.append('sqft_lot')\n",
    "\n",
    "# 70% / 30% train test split\n",
    "X_train, X_test, y_train, y_test = train_test_split(\n",
    "    data[features], data[['price']], test_size=0.3, random_state=421)\n",
    "\n",
    "# concatenate X_train & y_train for statsmodels linear regression\n",
    "all_train = pd.concat([X_train, y_train], axis=1)\n",
    "\n",
    "# build formula\n",
    "predictors = '+'.join(features)\n",
    "formula = 'price' + ' ~ ' + predictors\n",
    "\n",
    "# fit model using ordinary least squares\n",
    "model = ols(formula=formula, data=all_train).fit()\n",
    "\n",
    "# view model summary\n",
    "model.summary()"
   ]
  },
  {
   "cell_type": "markdown",
   "metadata": {},
   "source": [
    "Adding sqft_lot seems irrelevant; the coefficient is not statistically significant, and lies in a confidence interval containing zero, so I am going to now remove sqft_lot from the model and try adding school_district.\n",
    "\n",
    "Additionally, this addition had no effect on the R2 (or explanatory power) of the model."
   ]
  },
  {
   "cell_type": "code",
   "execution_count": 187,
   "metadata": {},
   "outputs": [
    {
     "data": {
      "text/html": [
       "<table class=\"simpletable\">\n",
       "<caption>OLS Regression Results</caption>\n",
       "<tr>\n",
       "  <th>Dep. Variable:</th>          <td>price</td>      <th>  R-squared:         </th>  <td>   0.730</td>  \n",
       "</tr>\n",
       "<tr>\n",
       "  <th>Model:</th>                   <td>OLS</td>       <th>  Adj. R-squared:    </th>  <td>   0.730</td>  \n",
       "</tr>\n",
       "<tr>\n",
       "  <th>Method:</th>             <td>Least Squares</td>  <th>  F-statistic:       </th>  <td>   1586.</td>  \n",
       "</tr>\n",
       "<tr>\n",
       "  <th>Date:</th>             <td>Sat, 12 Nov 2022</td> <th>  Prob (F-statistic):</th>   <td>  0.00</td>   \n",
       "</tr>\n",
       "<tr>\n",
       "  <th>Time:</th>                 <td>09:38:56</td>     <th>  Log-Likelihood:    </th> <td>-1.8255e+05</td>\n",
       "</tr>\n",
       "<tr>\n",
       "  <th>No. Observations:</th>      <td> 14097</td>      <th>  AIC:               </th>  <td>3.652e+05</td> \n",
       "</tr>\n",
       "<tr>\n",
       "  <th>Df Residuals:</th>          <td> 14072</td>      <th>  BIC:               </th>  <td>3.653e+05</td> \n",
       "</tr>\n",
       "<tr>\n",
       "  <th>Df Model:</th>              <td>    24</td>      <th>                     </th>      <td> </td>     \n",
       "</tr>\n",
       "<tr>\n",
       "  <th>Covariance Type:</th>      <td>nonrobust</td>    <th>                     </th>      <td> </td>     \n",
       "</tr>\n",
       "</table>\n",
       "<table class=\"simpletable\">\n",
       "<tr>\n",
       "                  <td></td>                     <th>coef</th>     <th>std err</th>      <th>t</th>      <th>P>|t|</th>  <th>[0.025</th>    <th>0.975]</th>  \n",
       "</tr>\n",
       "<tr>\n",
       "  <th>Intercept</th>                         <td>-1.509e+05</td> <td> 7869.495</td> <td>  -19.170</td> <td> 0.000</td> <td>-1.66e+05</td> <td>-1.35e+05</td>\n",
       "</tr>\n",
       "<tr>\n",
       "  <th>grade</th>                             <td> 4.669e+04</td> <td> 1314.002</td> <td>   35.532</td> <td> 0.000</td> <td> 4.41e+04</td> <td> 4.93e+04</td>\n",
       "</tr>\n",
       "<tr>\n",
       "  <th>sqft_living</th>                       <td>   95.2313</td> <td>    2.322</td> <td>   41.010</td> <td> 0.000</td> <td>   90.680</td> <td>   99.783</td>\n",
       "</tr>\n",
       "<tr>\n",
       "  <th>sqft_living15</th>                     <td>   41.8930</td> <td>    2.383</td> <td>   17.583</td> <td> 0.000</td> <td>   37.223</td> <td>   46.563</td>\n",
       "</tr>\n",
       "<tr>\n",
       "  <th>bathrooms</th>                         <td>-6404.5738</td> <td> 1832.832</td> <td>   -3.494</td> <td> 0.000</td> <td>-9997.167</td> <td>-2811.981</td>\n",
       "</tr>\n",
       "<tr>\n",
       "  <th>bedrooms</th>                          <td>-3814.8700</td> <td> 1272.699</td> <td>   -2.997</td> <td> 0.003</td> <td>-6309.529</td> <td>-1320.211</td>\n",
       "</tr>\n",
       "<tr>\n",
       "  <th>view</th>                              <td> 2.959e+04</td> <td> 1517.831</td> <td>   19.497</td> <td> 0.000</td> <td> 2.66e+04</td> <td> 3.26e+04</td>\n",
       "</tr>\n",
       "<tr>\n",
       "  <th>waterfront</th>                        <td> 1.786e+05</td> <td> 1.86e+04</td> <td>    9.589</td> <td> 0.000</td> <td> 1.42e+05</td> <td> 2.15e+05</td>\n",
       "</tr>\n",
       "<tr>\n",
       "  <th>school_district_Auburn</th>            <td>-1.423e+05</td> <td> 5226.530</td> <td>  -27.218</td> <td> 0.000</td> <td>-1.52e+05</td> <td>-1.32e+05</td>\n",
       "</tr>\n",
       "<tr>\n",
       "  <th>school_district_Bellevue</th>          <td> 2.185e+05</td> <td> 5828.297</td> <td>   37.483</td> <td> 0.000</td> <td> 2.07e+05</td> <td>  2.3e+05</td>\n",
       "</tr>\n",
       "<tr>\n",
       "  <th>school_district_Enumclaw</th>          <td>-9.548e+04</td> <td> 6345.110</td> <td>  -15.048</td> <td> 0.000</td> <td>-1.08e+05</td> <td> -8.3e+04</td>\n",
       "</tr>\n",
       "<tr>\n",
       "  <th>school_district_Federal_Way</th>       <td>-1.559e+05</td> <td> 3703.856</td> <td>  -42.089</td> <td> 0.000</td> <td>-1.63e+05</td> <td>-1.49e+05</td>\n",
       "</tr>\n",
       "<tr>\n",
       "  <th>school_district_Highline</th>          <td>-7.334e+04</td> <td> 3712.675</td> <td>  -19.753</td> <td> 0.000</td> <td>-8.06e+04</td> <td>-6.61e+04</td>\n",
       "</tr>\n",
       "<tr>\n",
       "  <th>school_district_Issaquah</th>          <td> 5.756e+04</td> <td> 3029.296</td> <td>   19.001</td> <td> 0.000</td> <td> 5.16e+04</td> <td> 6.35e+04</td>\n",
       "</tr>\n",
       "<tr>\n",
       "  <th>school_district_Kent</th>              <td>-1.352e+05</td> <td> 3609.192</td> <td>  -37.450</td> <td> 0.000</td> <td>-1.42e+05</td> <td>-1.28e+05</td>\n",
       "</tr>\n",
       "<tr>\n",
       "  <th>school_district_Lake_Washington</th>   <td> 7.861e+04</td> <td> 3115.470</td> <td>   25.232</td> <td> 0.000</td> <td> 7.25e+04</td> <td> 8.47e+04</td>\n",
       "</tr>\n",
       "<tr>\n",
       "  <th>school_district_Mercer_Island</th>     <td> 2.712e+05</td> <td> 9525.917</td> <td>   28.474</td> <td> 0.000</td> <td> 2.53e+05</td> <td>  2.9e+05</td>\n",
       "</tr>\n",
       "<tr>\n",
       "  <th>school_district_Northshore</th>        <td> 4.921e+04</td> <td> 3621.574</td> <td>   13.589</td> <td> 0.000</td> <td> 4.21e+04</td> <td> 5.63e+04</td>\n",
       "</tr>\n",
       "<tr>\n",
       "  <th>school_district_Renton</th>            <td>-8.035e+04</td> <td> 3376.006</td> <td>  -23.802</td> <td> 0.000</td> <td> -8.7e+04</td> <td>-7.37e+04</td>\n",
       "</tr>\n",
       "<tr>\n",
       "  <th>school_district_Riverview</th>         <td>-3.197e+04</td> <td> 6765.987</td> <td>   -4.724</td> <td> 0.000</td> <td>-4.52e+04</td> <td>-1.87e+04</td>\n",
       "</tr>\n",
       "<tr>\n",
       "  <th>school_district_Seattle</th>           <td> 1.128e+05</td> <td> 2119.639</td> <td>   53.226</td> <td> 0.000</td> <td> 1.09e+05</td> <td> 1.17e+05</td>\n",
       "</tr>\n",
       "<tr>\n",
       "  <th>school_district_Shoreline</th>         <td>-1350.1327</td> <td> 5727.069</td> <td>   -0.236</td> <td> 0.814</td> <td>-1.26e+04</td> <td> 9875.683</td>\n",
       "</tr>\n",
       "<tr>\n",
       "  <th>school_district_Snoqualmie_Valley</th> <td>-1.835e+04</td> <td> 4944.917</td> <td>   -3.710</td> <td> 0.000</td> <td> -2.8e+04</td> <td>-8653.237</td>\n",
       "</tr>\n",
       "<tr>\n",
       "  <th>school_district_Tahoma</th>            <td> -1.04e+05</td> <td> 4982.368</td> <td>  -20.866</td> <td> 0.000</td> <td>-1.14e+05</td> <td>-9.42e+04</td>\n",
       "</tr>\n",
       "<tr>\n",
       "  <th>school_district_Tukwila</th>           <td> -1.04e+05</td> <td> 1.01e+04</td> <td>  -10.343</td> <td> 0.000</td> <td>-1.24e+05</td> <td>-8.43e+04</td>\n",
       "</tr>\n",
       "<tr>\n",
       "  <th>school_district_Vashon_Island</th>     <td> 3303.4038</td> <td> 1.14e+04</td> <td>    0.291</td> <td> 0.771</td> <td> -1.9e+04</td> <td> 2.56e+04</td>\n",
       "</tr>\n",
       "</table>\n",
       "<table class=\"simpletable\">\n",
       "<tr>\n",
       "  <th>Omnibus:</th>       <td>806.903</td> <th>  Durbin-Watson:     </th> <td>   1.996</td>\n",
       "</tr>\n",
       "<tr>\n",
       "  <th>Prob(Omnibus):</th> <td> 0.000</td>  <th>  Jarque-Bera (JB):  </th> <td>1513.222</td>\n",
       "</tr>\n",
       "<tr>\n",
       "  <th>Skew:</th>          <td> 0.427</td>  <th>  Prob(JB):          </th> <td>    0.00</td>\n",
       "</tr>\n",
       "<tr>\n",
       "  <th>Kurtosis:</th>      <td> 4.359</td>  <th>  Cond. No.          </th> <td>3.49e+16</td>\n",
       "</tr>\n",
       "</table><br/><br/>Notes:<br/>[1] Standard Errors assume that the covariance matrix of the errors is correctly specified.<br/>[2] The smallest eigenvalue is 9.55e-23. This might indicate that there are<br/>strong multicollinearity problems or that the design matrix is singular."
      ],
      "text/plain": [
       "<class 'statsmodels.iolib.summary.Summary'>\n",
       "\"\"\"\n",
       "                            OLS Regression Results                            \n",
       "==============================================================================\n",
       "Dep. Variable:                  price   R-squared:                       0.730\n",
       "Model:                            OLS   Adj. R-squared:                  0.730\n",
       "Method:                 Least Squares   F-statistic:                     1586.\n",
       "Date:                Sat, 12 Nov 2022   Prob (F-statistic):               0.00\n",
       "Time:                        09:38:56   Log-Likelihood:            -1.8255e+05\n",
       "No. Observations:               14097   AIC:                         3.652e+05\n",
       "Df Residuals:                   14072   BIC:                         3.653e+05\n",
       "Df Model:                          24                                         \n",
       "Covariance Type:            nonrobust                                         \n",
       "=====================================================================================================\n",
       "                                        coef    std err          t      P>|t|      [0.025      0.975]\n",
       "-----------------------------------------------------------------------------------------------------\n",
       "Intercept                         -1.509e+05   7869.495    -19.170      0.000   -1.66e+05   -1.35e+05\n",
       "grade                              4.669e+04   1314.002     35.532      0.000    4.41e+04    4.93e+04\n",
       "sqft_living                          95.2313      2.322     41.010      0.000      90.680      99.783\n",
       "sqft_living15                        41.8930      2.383     17.583      0.000      37.223      46.563\n",
       "bathrooms                         -6404.5738   1832.832     -3.494      0.000   -9997.167   -2811.981\n",
       "bedrooms                          -3814.8700   1272.699     -2.997      0.003   -6309.529   -1320.211\n",
       "view                               2.959e+04   1517.831     19.497      0.000    2.66e+04    3.26e+04\n",
       "waterfront                         1.786e+05   1.86e+04      9.589      0.000    1.42e+05    2.15e+05\n",
       "school_district_Auburn            -1.423e+05   5226.530    -27.218      0.000   -1.52e+05   -1.32e+05\n",
       "school_district_Bellevue           2.185e+05   5828.297     37.483      0.000    2.07e+05     2.3e+05\n",
       "school_district_Enumclaw          -9.548e+04   6345.110    -15.048      0.000   -1.08e+05    -8.3e+04\n",
       "school_district_Federal_Way       -1.559e+05   3703.856    -42.089      0.000   -1.63e+05   -1.49e+05\n",
       "school_district_Highline          -7.334e+04   3712.675    -19.753      0.000   -8.06e+04   -6.61e+04\n",
       "school_district_Issaquah           5.756e+04   3029.296     19.001      0.000    5.16e+04    6.35e+04\n",
       "school_district_Kent              -1.352e+05   3609.192    -37.450      0.000   -1.42e+05   -1.28e+05\n",
       "school_district_Lake_Washington    7.861e+04   3115.470     25.232      0.000    7.25e+04    8.47e+04\n",
       "school_district_Mercer_Island      2.712e+05   9525.917     28.474      0.000    2.53e+05     2.9e+05\n",
       "school_district_Northshore         4.921e+04   3621.574     13.589      0.000    4.21e+04    5.63e+04\n",
       "school_district_Renton            -8.035e+04   3376.006    -23.802      0.000    -8.7e+04   -7.37e+04\n",
       "school_district_Riverview         -3.197e+04   6765.987     -4.724      0.000   -4.52e+04   -1.87e+04\n",
       "school_district_Seattle            1.128e+05   2119.639     53.226      0.000    1.09e+05    1.17e+05\n",
       "school_district_Shoreline         -1350.1327   5727.069     -0.236      0.814   -1.26e+04    9875.683\n",
       "school_district_Snoqualmie_Valley -1.835e+04   4944.917     -3.710      0.000    -2.8e+04   -8653.237\n",
       "school_district_Tahoma             -1.04e+05   4982.368    -20.866      0.000   -1.14e+05   -9.42e+04\n",
       "school_district_Tukwila            -1.04e+05   1.01e+04    -10.343      0.000   -1.24e+05   -8.43e+04\n",
       "school_district_Vashon_Island      3303.4038   1.14e+04      0.291      0.771    -1.9e+04    2.56e+04\n",
       "==============================================================================\n",
       "Omnibus:                      806.903   Durbin-Watson:                   1.996\n",
       "Prob(Omnibus):                  0.000   Jarque-Bera (JB):             1513.222\n",
       "Skew:                           0.427   Prob(JB):                         0.00\n",
       "Kurtosis:                       4.359   Cond. No.                     3.49e+16\n",
       "==============================================================================\n",
       "\n",
       "Notes:\n",
       "[1] Standard Errors assume that the covariance matrix of the errors is correctly specified.\n",
       "[2] The smallest eigenvalue is 9.55e-23. This might indicate that there are\n",
       "strong multicollinearity problems or that the design matrix is singular.\n",
       "\"\"\""
      ]
     },
     "execution_count": 187,
     "metadata": {},
     "output_type": "execute_result"
    }
   ],
   "source": [
    "# remove sqft_lot; add school_district\n",
    "features.remove('sqft_lot')\n",
    "\n",
    "for school in new_school_district_cols:\n",
    "    features.append(school)\n",
    "\n",
    "# 70% / 30% train test split\n",
    "X_train, X_test, y_train, y_test = train_test_split(\n",
    "    data[features], data[['price']], test_size=0.3, random_state=421)\n",
    "\n",
    "# concatenate X_train & y_train for statsmodels linear regression\n",
    "all_train = pd.concat([X_train, y_train], axis=1)\n",
    "\n",
    "# build formula\n",
    "predictors = '+'.join(features)\n",
    "formula = 'price' + ' ~ ' + predictors\n",
    "\n",
    "# fit model using ordinary least squares\n",
    "model = ols(formula=formula, data=all_train).fit()\n",
    "\n",
    "# view model summary\n",
    "model.summary()"
   ]
  },
  {
   "cell_type": "markdown",
   "metadata": {},
   "source": [
    "Wow! Adding school_district increased the R2 of the model to 0.73; our model now explains 73% of the variance in home price in our data. I am satisfied with this R2 (and I think we have included all of the features that it makes sense to include at this point anyway) so I am going to work on interpreting the coefficients of the various school districts now.\n",
    "\n",
    "- For two school districts, Vashon Island and Shoreline, the coefficients and p-values seem to indicate that the school district plays no consistent and measurable role in influencing the price of a home. The school district is really also a proxy for location in general, because it is the only geographic location based data in our model. I think that this means home prices within these areas have a higher variance than home prices in the data set in general which suggests that other features of a home are much more important in influencing the price of a home in these areas rather than location itself."
   ]
  },
  {
   "cell_type": "markdown",
   "metadata": {},
   "source": [
    "I wonder if I can programmatically access a list of the features included and their coefficients, and order the school_district features by coefficient? And perhaps analyze the distribution of the coefficients, taking into account somehow the confidence intervals thereof, to make a statement about the importance and effect of location / school_district on home price?"
   ]
  },
  {
   "cell_type": "markdown",
   "metadata": {},
   "source": [
    "### Next Steps\n",
    "\n",
    "Check assumptions for linear regression."
   ]
  },
  {
   "cell_type": "markdown",
   "metadata": {},
   "source": [
    "## Old: Using SciKit Learn"
   ]
  },
  {
   "cell_type": "code",
   "execution_count": 78,
   "metadata": {},
   "outputs": [],
   "source": [
    "# import scikit learn packages needed for model building and selection\n",
    "\n",
    "# import train_test_split and cross_validate from model_selection\n",
    "from sklearn.model_selection import train_test_split, cross_validate\n",
    "\n",
    "# import linear regression from linear_model\n",
    "from sklearn.linear_model import LinearRegression"
   ]
  },
  {
   "cell_type": "code",
   "execution_count": 79,
   "metadata": {},
   "outputs": [],
   "source": [
    "# Split the data 70%/30% into training and test sets\n",
    "# Only use the feature grade for now, to create the baseline model\n",
    "X_train, X_test, y_train, y_test = train_test_split(\n",
    "    data[['grade']],\n",
    "    data[['price']],\n",
    "    test_size=0.3,\n",
    "    random_state=421,\n",
    "    shuffle=True\n",
    ")"
   ]
  },
  {
   "cell_type": "code",
   "execution_count": 80,
   "metadata": {},
   "outputs": [],
   "source": [
    "# sqft_living seems like a better predictor, so I am also making a baseline model with this feature to compare\n",
    "\n",
    "X_train2, X_test2, y_train2, y_test2 = train_test_split(\n",
    "    data[['sqft_living']],\n",
    "    data[['price']],\n",
    "    test_size=0.3,\n",
    "    random_state=421,\n",
    "    shuffle=True\n",
    ")"
   ]
  },
  {
   "cell_type": "code",
   "execution_count": 81,
   "metadata": {},
   "outputs": [
    {
     "data": {
      "text/plain": [
       "array([0.3687176 , 0.38466712, 0.40279318, 0.37450974, 0.38410624])"
      ]
     },
     "execution_count": 81,
     "metadata": {},
     "output_type": "execute_result"
    }
   ],
   "source": [
    "linreg = LinearRegression()\n",
    "\n",
    "cross_validate(linreg, X_train, y_train, scoring='r2')['test_score']"
   ]
  },
  {
   "cell_type": "code",
   "execution_count": 82,
   "metadata": {},
   "outputs": [
    {
     "data": {
      "text/plain": [
       "array([0.35952345, 0.35407731, 0.38769083, 0.37509904, 0.35125285])"
      ]
     },
     "execution_count": 82,
     "metadata": {},
     "output_type": "execute_result"
    }
   ],
   "source": [
    "linreg2= LinearRegression()\n",
    "\n",
    "cross_validate(linreg2, X_train2, y_train2, scoring='r2')['test_score']"
   ]
  },
  {
   "cell_type": "markdown",
   "metadata": {},
   "source": [
    "It appears that my baseline linear model explains about 36% of the variance in home prices.\n",
    "\n",
    "Now, checking the assumptions of linear regression:"
   ]
  },
  {
   "cell_type": "code",
   "execution_count": 83,
   "metadata": {},
   "outputs": [
    {
     "data": {
      "text/plain": [
       "LinearRegression()"
      ]
     },
     "execution_count": 83,
     "metadata": {},
     "output_type": "execute_result"
    }
   ],
   "source": [
    "# go ahead and fit the model to training data to plot regression line\n",
    "linreg.fit(X_train, y_train)"
   ]
  },
  {
   "cell_type": "code",
   "execution_count": 84,
   "metadata": {},
   "outputs": [
    {
     "data": {
      "text/plain": [
       "LinearRegression()"
      ]
     },
     "execution_count": 84,
     "metadata": {},
     "output_type": "execute_result"
    }
   ],
   "source": [
    "linreg2.fit(X_train2, y_train2)"
   ]
  },
  {
   "cell_type": "code",
   "execution_count": 85,
   "metadata": {},
   "outputs": [
    {
     "data": {
      "image/png": "[encoded data removed]",
      "text/plain": [
       "<Figure size 432x288 with 1 Axes>"
      ]
     },
     "metadata": {
      "needs_background": "light"
     },
     "output_type": "display_data"
    }
   ],
   "source": [
    "# Linearity\n",
    "\n",
    "fig, ax = plt.subplots()\n",
    "\n",
    "sns.scatterplot(x=X_train['grade'], y=y_train['price'], ax=ax)\n",
    "\n",
    "ax.set_title('Price as a Function of Grade')\n",
    "\n",
    "sns.lineplot(x=X_train['grade'], y=linreg.predict(X_train).reshape(-1), color='r', label='Regression Line')\n",
    "\n",
    "ax.legend();"
   ]
  },
  {
   "cell_type": "code",
   "execution_count": 86,
   "metadata": {},
   "outputs": [
    {
     "data": {
      "image/png": "[encoded data removed]",
      "text/plain": [
       "<Figure size 432x288 with 1 Axes>"
      ]
     },
     "metadata": {
      "needs_background": "light"
     },
     "output_type": "display_data"
    }
   ],
   "source": [
    "# Linearity (for baseline model 2)\n",
    "\n",
    "fig, ax = plt.subplots()\n",
    "\n",
    "sns.scatterplot(x=X_train2['sqft_living'], y=y_train2['price'], ax=ax)\n",
    "\n",
    "ax.set_title('Price as a Function of Sqft_living')\n",
    "\n",
    "sns.lineplot(x=X_train2['sqft_living'], y=linreg.predict(X_train2).reshape(-1), color='r', label='Regression Line')\n",
    "\n",
    "ax.legend();"
   ]
  },
  {
   "cell_type": "code",
   "execution_count": 54,
   "metadata": {},
   "outputs": [
    {
     "data": {
      "image/png": "[encoded data removed]",
      "text/plain": [
       "<Figure size 432x288 with 1 Axes>"
      ]
     },
     "metadata": {
      "needs_background": "light"
     },
     "output_type": "display_data"
    }
   ],
   "source": [
    "# Homoscedasticity & normality of residuals\n",
    "\n",
    "residuals = y_train - linreg.predict(X_train)\n",
    "\n",
    "fig, ax = plt.subplots()\n",
    "\n",
    "ax.set_title('Residuals as a Function of Grade')\n",
    "\n",
    "ax.set_ylabel('Residuals')\n",
    "\n",
    "sns.scatterplot(x=y_train['price'], y=residuals['price']);"
   ]
  },
  {
   "cell_type": "markdown",
   "metadata": {},
   "source": [
    "As price increases, the error in our model increases. This does NOT look like homoscedasticity is satisifed. Let's also check a qq plot."
   ]
  },
  {
   "cell_type": "code",
   "execution_count": 55,
   "metadata": {},
   "outputs": [
    {
     "data": {
      "image/png": "[encoded data removed]",
      "text/plain": [
       "<Figure size 432x288 with 1 Axes>"
      ]
     },
     "metadata": {
      "needs_background": "light"
     },
     "output_type": "display_data"
    }
   ],
   "source": [
    "import statsmodels.api as sm\n",
    "\n",
    "sm.qqplot(residuals, line='45');"
   ]
  },
  {
   "cell_type": "markdown",
   "metadata": {},
   "source": [
    "The residuals are definitely not normally distributed."
   ]
  },
  {
   "cell_type": "code",
   "execution_count": 56,
   "metadata": {},
   "outputs": [
    {
     "data": {
      "image/png": "[encoded data removed]",
      "text/plain": [
       "<Figure size 432x288 with 1 Axes>"
      ]
     },
     "metadata": {
      "needs_background": "light"
     },
     "output_type": "display_data"
    }
   ],
   "source": [
    "sns.histplot(residuals);"
   ]
  },
  {
   "cell_type": "markdown",
   "metadata": {},
   "source": [
    "## Using Statsmodels"
   ]
  },
  {
   "cell_type": "code",
   "execution_count": 133,
   "metadata": {},
   "outputs": [
    {
     "data": {
      "text/html": [
       "<table class=\"simpletable\">\n",
       "<caption>OLS Regression Results</caption>\n",
       "<tr>\n",
       "  <th>Dep. Variable:</th>         <td>y_train</td>     <th>  R-squared:         </th>  <td>   0.493</td>  \n",
       "</tr>\n",
       "<tr>\n",
       "  <th>Model:</th>                   <td>OLS</td>       <th>  Adj. R-squared:    </th>  <td>   0.493</td>  \n",
       "</tr>\n",
       "<tr>\n",
       "  <th>Method:</th>             <td>Least Squares</td>  <th>  F-statistic:       </th>  <td>1.469e+04</td> \n",
       "</tr>\n",
       "<tr>\n",
       "  <th>Date:</th>             <td>Sun, 23 Oct 2022</td> <th>  Prob (F-statistic):</th>   <td>  0.00</td>   \n",
       "</tr>\n",
       "<tr>\n",
       "  <th>Time:</th>                 <td>10:05:17</td>     <th>  Log-Likelihood:    </th> <td>-2.1003e+05</td>\n",
       "</tr>\n",
       "<tr>\n",
       "  <th>No. Observations:</th>      <td> 15117</td>      <th>  AIC:               </th>  <td>4.201e+05</td> \n",
       "</tr>\n",
       "<tr>\n",
       "  <th>Df Residuals:</th>          <td> 15115</td>      <th>  BIC:               </th>  <td>4.201e+05</td> \n",
       "</tr>\n",
       "<tr>\n",
       "  <th>Df Model:</th>              <td>     1</td>      <th>                     </th>      <td> </td>     \n",
       "</tr>\n",
       "<tr>\n",
       "  <th>Covariance Type:</th>      <td>nonrobust</td>    <th>                     </th>      <td> </td>     \n",
       "</tr>\n",
       "</table>\n",
       "<table class=\"simpletable\">\n",
       "<tr>\n",
       "       <td></td>          <th>coef</th>     <th>std err</th>      <th>t</th>      <th>P>|t|</th>  <th>[0.025</th>    <th>0.975]</th>  \n",
       "</tr>\n",
       "<tr>\n",
       "  <th>Intercept</th>   <td>-4.379e+04</td> <td> 5282.288</td> <td>   -8.290</td> <td> 0.000</td> <td>-5.41e+04</td> <td>-3.34e+04</td>\n",
       "</tr>\n",
       "<tr>\n",
       "  <th>sqft_living</th> <td>  280.8724</td> <td>    2.317</td> <td>  121.199</td> <td> 0.000</td> <td>  276.330</td> <td>  285.415</td>\n",
       "</tr>\n",
       "</table>\n",
       "<table class=\"simpletable\">\n",
       "<tr>\n",
       "  <th>Omnibus:</th>       <td>10451.928</td> <th>  Durbin-Watson:     </th>  <td>   2.013</td> \n",
       "</tr>\n",
       "<tr>\n",
       "  <th>Prob(Omnibus):</th>  <td> 0.000</td>   <th>  Jarque-Bera (JB):  </th> <td>399154.274</td>\n",
       "</tr>\n",
       "<tr>\n",
       "  <th>Skew:</th>           <td> 2.839</td>   <th>  Prob(JB):          </th>  <td>    0.00</td> \n",
       "</tr>\n",
       "<tr>\n",
       "  <th>Kurtosis:</th>       <td>27.525</td>   <th>  Cond. No.          </th>  <td>5.66e+03</td> \n",
       "</tr>\n",
       "</table><br/><br/>Notes:<br/>[1] Standard Errors assume that the covariance matrix of the errors is correctly specified.<br/>[2] The condition number is large, 5.66e+03. This might indicate that there are<br/>strong multicollinearity or other numerical problems."
      ],
      "text/plain": [
       "<class 'statsmodels.iolib.summary.Summary'>\n",
       "\"\"\"\n",
       "                            OLS Regression Results                            \n",
       "==============================================================================\n",
       "Dep. Variable:                y_train   R-squared:                       0.493\n",
       "Model:                            OLS   Adj. R-squared:                  0.493\n",
       "Method:                 Least Squares   F-statistic:                 1.469e+04\n",
       "Date:                Sun, 23 Oct 2022   Prob (F-statistic):               0.00\n",
       "Time:                        10:05:17   Log-Likelihood:            -2.1003e+05\n",
       "No. Observations:               15117   AIC:                         4.201e+05\n",
       "Df Residuals:                   15115   BIC:                         4.201e+05\n",
       "Df Model:                           1                                         \n",
       "Covariance Type:            nonrobust                                         \n",
       "===============================================================================\n",
       "                  coef    std err          t      P>|t|      [0.025      0.975]\n",
       "-------------------------------------------------------------------------------\n",
       "Intercept   -4.379e+04   5282.288     -8.290      0.000   -5.41e+04   -3.34e+04\n",
       "sqft_living   280.8724      2.317    121.199      0.000     276.330     285.415\n",
       "==============================================================================\n",
       "Omnibus:                    10451.928   Durbin-Watson:                   2.013\n",
       "Prob(Omnibus):                  0.000   Jarque-Bera (JB):           399154.274\n",
       "Skew:                           2.839   Prob(JB):                         0.00\n",
       "Kurtosis:                      27.525   Cond. No.                     5.66e+03\n",
       "==============================================================================\n",
       "\n",
       "Notes:\n",
       "[1] Standard Errors assume that the covariance matrix of the errors is correctly specified.\n",
       "[2] The condition number is large, 5.66e+03. This might indicate that there are\n",
       "strong multicollinearity or other numerical problems.\n",
       "\"\"\""
      ]
     },
     "execution_count": 133,
     "metadata": {},
     "output_type": "execute_result"
    }
   ],
   "source": [
    "# import necessary packages\n",
    "import statsmodels.api as sm\n",
    "from statsmodels.formula.api import ols\n",
    "\n",
    "# build the formula string\n",
    "outcome = 'y_train'\n",
    "predictor = 'sqft_living'\n",
    "formula = outcome + '~' + predictor\n",
    "\n",
    "# pass formula string and concatenated training data to ordinary least squares\n",
    "model = ols(formula=formula, data=pd.concat([X_train,y_train], axis=1)).fit()\n",
    "\n",
    "# view model summary\n",
    "model.summary()"
   ]
  },
  {
   "cell_type": "code",
   "execution_count": 82,
   "metadata": {},
   "outputs": [
    {
     "data": {
      "image/png": "[encoded data removed]",
      "text/plain": [
       "<Figure size 432x288 with 1 Axes>"
      ]
     },
     "metadata": {
      "needs_background": "light"
     },
     "output_type": "display_data"
    }
   ],
   "source": [
    "# checking assumptions - what do the residuals look like?\n",
    "\n",
    "residuals = model.predict(X_train) - y_train\n",
    "\n",
    "fig, ax = plt.subplots()\n",
    "\n",
    "ax.scatter(X_train, residuals);"
   ]
  },
  {
   "cell_type": "markdown",
   "metadata": {},
   "source": [
    "The residuals are huge! There is a little bit of a pattern in the residuals. Am I failing the normality of residuals assumption?"
   ]
  },
  {
   "cell_type": "code",
   "execution_count": 112,
   "metadata": {},
   "outputs": [
    {
     "data": {
      "image/png": "[encoded data removed]",
      "text/plain": [
       "<Figure size 432x288 with 1 Axes>"
      ]
     },
     "metadata": {
      "needs_background": "light"
     },
     "output_type": "display_data"
    }
   ],
   "source": [
    "sm.qqplot(residuals, line='45');"
   ]
  },
  {
   "cell_type": "markdown",
   "metadata": {},
   "source": [
    "Oh my goodness. The residuals are not distributed normally at all. How do I fix this?"
   ]
  },
  {
   "cell_type": "code",
   "execution_count": 86,
   "metadata": {},
   "outputs": [],
   "source": [
    "# add next most correlated feature to model\n",
    "\n",
    "features = ['sqft_living']\n",
    "features.append('sqft_living15')\n",
    "\n",
    "X_train, X_test, y_train, y_test = train_test_split(\n",
    "    data.loc[:, features],\n",
    "    data['price'],\n",
    "    test_size=0.3,\n",
    "    random_state=421,\n",
    "    shuffle=True\n",
    ")"
   ]
  },
  {
   "cell_type": "code",
   "execution_count": 88,
   "metadata": {},
   "outputs": [
    {
     "data": {
      "text/html": [
       "<table class=\"simpletable\">\n",
       "<caption>OLS Regression Results</caption>\n",
       "<tr>\n",
       "  <th>Dep. Variable:</th>         <td>y_train</td>     <th>  R-squared:         </th>  <td>   0.403</td>  \n",
       "</tr>\n",
       "<tr>\n",
       "  <th>Model:</th>                   <td>OLS</td>       <th>  Adj. R-squared:    </th>  <td>   0.403</td>  \n",
       "</tr>\n",
       "<tr>\n",
       "  <th>Method:</th>             <td>Least Squares</td>  <th>  F-statistic:       </th>  <td>   4826.</td>  \n",
       "</tr>\n",
       "<tr>\n",
       "  <th>Date:</th>             <td>Sat, 22 Oct 2022</td> <th>  Prob (F-statistic):</th>   <td>  0.00</td>   \n",
       "</tr>\n",
       "<tr>\n",
       "  <th>Time:</th>                 <td>15:00:10</td>     <th>  Log-Likelihood:    </th> <td>-1.9172e+05</td>\n",
       "</tr>\n",
       "<tr>\n",
       "  <th>No. Observations:</th>      <td> 14307</td>      <th>  AIC:               </th>  <td>3.834e+05</td> \n",
       "</tr>\n",
       "<tr>\n",
       "  <th>Df Residuals:</th>          <td> 14304</td>      <th>  BIC:               </th>  <td>3.835e+05</td> \n",
       "</tr>\n",
       "<tr>\n",
       "  <th>Df Model:</th>              <td>     2</td>      <th>                     </th>      <td> </td>     \n",
       "</tr>\n",
       "<tr>\n",
       "  <th>Covariance Type:</th>      <td>nonrobust</td>    <th>                     </th>      <td> </td>     \n",
       "</tr>\n",
       "</table>\n",
       "<table class=\"simpletable\">\n",
       "<tr>\n",
       "        <td></td>           <th>coef</th>     <th>std err</th>      <th>t</th>      <th>P>|t|</th>  <th>[0.025</th>    <th>0.975]</th>  \n",
       "</tr>\n",
       "<tr>\n",
       "  <th>Intercept</th>     <td> 9.199e+04</td> <td> 4425.388</td> <td>   20.787</td> <td> 0.000</td> <td> 8.33e+04</td> <td> 1.01e+05</td>\n",
       "</tr>\n",
       "<tr>\n",
       "  <th>sqft_living</th>   <td>  122.8647</td> <td>    2.560</td> <td>   47.992</td> <td> 0.000</td> <td>  117.847</td> <td>  127.883</td>\n",
       "</tr>\n",
       "<tr>\n",
       "  <th>sqft_living15</th> <td>   73.7981</td> <td>    3.205</td> <td>   23.027</td> <td> 0.000</td> <td>   67.516</td> <td>   80.080</td>\n",
       "</tr>\n",
       "</table>\n",
       "<table class=\"simpletable\">\n",
       "<tr>\n",
       "  <th>Omnibus:</th>       <td>713.692</td> <th>  Durbin-Watson:     </th> <td>   2.016</td> \n",
       "</tr>\n",
       "<tr>\n",
       "  <th>Prob(Omnibus):</th> <td> 0.000</td>  <th>  Jarque-Bera (JB):  </th> <td> 823.502</td> \n",
       "</tr>\n",
       "<tr>\n",
       "  <th>Skew:</th>          <td> 0.576</td>  <th>  Prob(JB):          </th> <td>1.51e-179</td>\n",
       "</tr>\n",
       "<tr>\n",
       "  <th>Kurtosis:</th>      <td> 3.237</td>  <th>  Cond. No.          </th> <td>9.62e+03</td> \n",
       "</tr>\n",
       "</table><br/><br/>Notes:<br/>[1] Standard Errors assume that the covariance matrix of the errors is correctly specified.<br/>[2] The condition number is large, 9.62e+03. This might indicate that there are<br/>strong multicollinearity or other numerical problems."
      ],
      "text/plain": [
       "<class 'statsmodels.iolib.summary.Summary'>\n",
       "\"\"\"\n",
       "                            OLS Regression Results                            \n",
       "==============================================================================\n",
       "Dep. Variable:                y_train   R-squared:                       0.403\n",
       "Model:                            OLS   Adj. R-squared:                  0.403\n",
       "Method:                 Least Squares   F-statistic:                     4826.\n",
       "Date:                Sat, 22 Oct 2022   Prob (F-statistic):               0.00\n",
       "Time:                        15:00:10   Log-Likelihood:            -1.9172e+05\n",
       "No. Observations:               14307   AIC:                         3.834e+05\n",
       "Df Residuals:                   14304   BIC:                         3.835e+05\n",
       "Df Model:                           2                                         \n",
       "Covariance Type:            nonrobust                                         \n",
       "=================================================================================\n",
       "                    coef    std err          t      P>|t|      [0.025      0.975]\n",
       "---------------------------------------------------------------------------------\n",
       "Intercept      9.199e+04   4425.388     20.787      0.000    8.33e+04    1.01e+05\n",
       "sqft_living     122.8647      2.560     47.992      0.000     117.847     127.883\n",
       "sqft_living15    73.7981      3.205     23.027      0.000      67.516      80.080\n",
       "==============================================================================\n",
       "Omnibus:                      713.692   Durbin-Watson:                   2.016\n",
       "Prob(Omnibus):                  0.000   Jarque-Bera (JB):              823.502\n",
       "Skew:                           0.576   Prob(JB):                    1.51e-179\n",
       "Kurtosis:                       3.237   Cond. No.                     9.62e+03\n",
       "==============================================================================\n",
       "\n",
       "Notes:\n",
       "[1] Standard Errors assume that the covariance matrix of the errors is correctly specified.\n",
       "[2] The condition number is large, 9.62e+03. This might indicate that there are\n",
       "strong multicollinearity or other numerical problems.\n",
       "\"\"\""
      ]
     },
     "execution_count": 88,
     "metadata": {},
     "output_type": "execute_result"
    }
   ],
   "source": [
    "# build the formula string\n",
    "outcome = 'y_train'\n",
    "predictors = X_train[features]\n",
    "pred_sum = '+'.join(predictors.columns)\n",
    "formula = outcome + '~' + pred_sum\n",
    "\n",
    "# pass formula string and concatenated training data to ordinary least squares\n",
    "model = ols(formula=formula, data=pd.concat([X_train,y_train], axis=1)).fit()\n",
    "\n",
    "# view the model summary\n",
    "model.summary()"
   ]
  },
  {
   "cell_type": "code",
   "execution_count": 107,
   "metadata": {},
   "outputs": [
    {
     "data": {
      "image/png": "[encoded data removed]",
      "text/plain": [
       "<Figure size 432x288 with 1 Axes>"
      ]
     },
     "metadata": {
      "needs_background": "light"
     },
     "output_type": "display_data"
    }
   ],
   "source": [
    "# the residuals LOOK normal\n",
    "\n",
    "sns.histplot(residuals);"
   ]
  },
  {
   "cell_type": "markdown",
   "metadata": {},
   "source": [
    "### One Hot Encoding"
   ]
  },
  {
   "cell_type": "code",
   "execution_count": null,
   "metadata": {},
   "outputs": [],
   "source": [
    "# one hot encode zipcode\n",
    "\n",
    "from sklearn.preprocessing import OneHotEncoder\n",
    "\n",
    "zip_ohe = OneHotEncoder(handle_unknown='ignore', sparse=False)\n",
    "\n",
    "zip_ohe.fit(X_train[['zipcode']])\n",
    "\n",
    "new_zipcode_cols = zip_ohe.get_feature_names(input_features=['zipcode'])\n",
    "\n",
    "X_train_ohe = pd.DataFrame(zip_ohe.fit_transform(X_train[['zipcode']]), columns = new_zipcode_cols,\\\n",
    "                          index = X_train.index)\n",
    "\n",
    "X_train = pd.concat([X_train.drop('zipcode', axis=1), X_train_ohe], axis=1)"
   ]
  },
  {
   "cell_type": "code",
   "execution_count": null,
   "metadata": {},
   "outputs": [],
   "source": []
  }
 ],
 "metadata": {
  "kernelspec": {
   "display_name": "Python (learn-env)",
   "language": "python",
   "name": "learn-env"
  },
  "language_info": {
   "codemirror_mode": {
    "name": "ipython",
    "version": 3
   },
   "file_extension": ".py",
   "mimetype": "text/x-python",
   "name": "python",
   "nbconvert_exporter": "python",
   "pygments_lexer": "ipython3",
   "version": "3.8.5"
  }
 },
 "nbformat": 4,
 "nbformat_minor": 4
}
